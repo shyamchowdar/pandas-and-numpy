{
 "cells": [
  {
   "cell_type": "markdown",
   "id": "6e12db93",
   "metadata": {},
   "source": [
    "# numpy"
   ]
  },
  {
   "cell_type": "markdown",
   "id": "0b2223fa",
   "metadata": {
    "heading_collapsed": true
   },
   "source": [
    "### attributes"
   ]
  },
  {
   "cell_type": "code",
   "execution_count": 1,
   "id": "50010c15",
   "metadata": {
    "hidden": true
   },
   "outputs": [],
   "source": [
    "import numpy as np"
   ]
  },
  {
   "cell_type": "code",
   "execution_count": 10,
   "id": "b88847d4",
   "metadata": {
    "hidden": true
   },
   "outputs": [
    {
     "name": "stdout",
     "output_type": "stream",
     "text": [
      "Requirement already satisfied: numpy in c:\\users\\alasy\\anaconda3\\lib\\site-packages (1.21.5)\n"
     ]
    }
   ],
   "source": [
    "! pip install numpy                  "
   ]
  },
  {
   "cell_type": "code",
   "execution_count": 11,
   "id": "523cac61",
   "metadata": {
    "hidden": true
   },
   "outputs": [],
   "source": [
    "# creating an array"
   ]
  },
  {
   "cell_type": "markdown",
   "id": "d4d2b7b1",
   "metadata": {
    "hidden": true
   },
   "source": [
    "from list"
   ]
  },
  {
   "cell_type": "code",
   "execution_count": 12,
   "id": "84b7b479",
   "metadata": {
    "hidden": true
   },
   "outputs": [],
   "source": [
    "list1=[1,2,3,4,5,6]"
   ]
  },
  {
   "cell_type": "code",
   "execution_count": 13,
   "id": "d2e462d7",
   "metadata": {
    "hidden": true
   },
   "outputs": [],
   "source": [
    "arr1=np.array(list1)"
   ]
  },
  {
   "cell_type": "code",
   "execution_count": 14,
   "id": "ccf2b3c5",
   "metadata": {
    "hidden": true
   },
   "outputs": [
    {
     "data": {
      "text/plain": [
       "array([1, 2, 3, 4, 5, 6])"
      ]
     },
     "execution_count": 14,
     "metadata": {},
     "output_type": "execute_result"
    }
   ],
   "source": [
    "arr1"
   ]
  },
  {
   "cell_type": "code",
   "execution_count": 16,
   "id": "8d3c6bab",
   "metadata": {
    "hidden": true
   },
   "outputs": [
    {
     "data": {
      "text/plain": [
       "1"
      ]
     },
     "execution_count": 16,
     "metadata": {},
     "output_type": "execute_result"
    }
   ],
   "source": [
    "arr1.ndim #dimensions"
   ]
  },
  {
   "cell_type": "code",
   "execution_count": 17,
   "id": "0ab1a5c5",
   "metadata": {
    "hidden": true
   },
   "outputs": [],
   "source": [
    "tpl=(112,123,321)"
   ]
  },
  {
   "cell_type": "code",
   "execution_count": 19,
   "id": "2b7fa9bf",
   "metadata": {
    "hidden": true
   },
   "outputs": [],
   "source": [
    "arr2 = np.array(tpl)"
   ]
  },
  {
   "cell_type": "code",
   "execution_count": 20,
   "id": "6aacd489",
   "metadata": {
    "hidden": true
   },
   "outputs": [
    {
     "data": {
      "text/plain": [
       "array([112, 123, 321])"
      ]
     },
     "execution_count": 20,
     "metadata": {},
     "output_type": "execute_result"
    }
   ],
   "source": [
    "arr2"
   ]
  },
  {
   "cell_type": "code",
   "execution_count": 21,
   "id": "d734832c",
   "metadata": {
    "hidden": true
   },
   "outputs": [
    {
     "data": {
      "text/plain": [
       "dtype('int32')"
      ]
     },
     "execution_count": 21,
     "metadata": {},
     "output_type": "execute_result"
    }
   ],
   "source": [
    "arr2.dtype # datatypes of elements"
   ]
  },
  {
   "cell_type": "code",
   "execution_count": 22,
   "id": "884b501a",
   "metadata": {
    "hidden": true
   },
   "outputs": [
    {
     "data": {
      "text/plain": [
       "(3,)"
      ]
     },
     "execution_count": 22,
     "metadata": {},
     "output_type": "execute_result"
    }
   ],
   "source": [
    "arr2.shape #rows x columns"
   ]
  },
  {
   "cell_type": "code",
   "execution_count": 23,
   "id": "2e36f1e1",
   "metadata": {
    "hidden": true
   },
   "outputs": [
    {
     "data": {
      "text/plain": [
       "3"
      ]
     },
     "execution_count": 23,
     "metadata": {},
     "output_type": "execute_result"
    }
   ],
   "source": [
    "arr2.size # no of elements in array"
   ]
  },
  {
   "cell_type": "code",
   "execution_count": 24,
   "id": "9624d7ba",
   "metadata": {
    "hidden": true
   },
   "outputs": [
    {
     "data": {
      "text/plain": [
       "1"
      ]
     },
     "execution_count": 24,
     "metadata": {},
     "output_type": "execute_result"
    }
   ],
   "source": [
    "arr2.ndim #dimensions"
   ]
  },
  {
   "cell_type": "code",
   "execution_count": 25,
   "id": "d9ce4884",
   "metadata": {
    "hidden": true
   },
   "outputs": [
    {
     "data": {
      "text/plain": [
       "12"
      ]
     },
     "execution_count": 25,
     "metadata": {},
     "output_type": "execute_result"
    }
   ],
   "source": [
    "arr2.nbytes # memory occupied by the array"
   ]
  },
  {
   "cell_type": "markdown",
   "id": "1b4c721b",
   "metadata": {
    "heading_collapsed": true
   },
   "source": [
    "### creating different dimensional array"
   ]
  },
  {
   "cell_type": "code",
   "execution_count": 28,
   "id": "181e140d",
   "metadata": {
    "hidden": true
   },
   "outputs": [],
   "source": [
    "arr3=np.array([[4,5,6],[7,8,9]])"
   ]
  },
  {
   "cell_type": "code",
   "execution_count": 29,
   "id": "da9f96cd",
   "metadata": {
    "hidden": true
   },
   "outputs": [
    {
     "data": {
      "text/plain": [
       "array([[4, 5, 6],\n",
       "       [7, 8, 9]])"
      ]
     },
     "execution_count": 29,
     "metadata": {},
     "output_type": "execute_result"
    }
   ],
   "source": [
    "arr3"
   ]
  },
  {
   "cell_type": "code",
   "execution_count": 30,
   "id": "3cd6031a",
   "metadata": {
    "hidden": true
   },
   "outputs": [
    {
     "data": {
      "text/plain": [
       "2"
      ]
     },
     "execution_count": 30,
     "metadata": {},
     "output_type": "execute_result"
    }
   ],
   "source": [
    "arr3.ndim"
   ]
  },
  {
   "cell_type": "code",
   "execution_count": 31,
   "id": "5b354b87",
   "metadata": {
    "hidden": true
   },
   "outputs": [
    {
     "data": {
      "text/plain": [
       "(2, 3)"
      ]
     },
     "execution_count": 31,
     "metadata": {},
     "output_type": "execute_result"
    }
   ],
   "source": [
    "arr3.shape"
   ]
  },
  {
   "cell_type": "code",
   "execution_count": 32,
   "id": "17c83942",
   "metadata": {
    "hidden": true
   },
   "outputs": [
    {
     "data": {
      "text/plain": [
       "6"
      ]
     },
     "execution_count": 32,
     "metadata": {},
     "output_type": "execute_result"
    }
   ],
   "source": [
    "arr3.size"
   ]
  },
  {
   "cell_type": "code",
   "execution_count": 33,
   "id": "7be4f84e",
   "metadata": {
    "hidden": true
   },
   "outputs": [
    {
     "data": {
      "text/plain": [
       "24"
      ]
     },
     "execution_count": 33,
     "metadata": {},
     "output_type": "execute_result"
    }
   ],
   "source": [
    "arr3.nbytes"
   ]
  },
  {
   "cell_type": "code",
   "execution_count": 34,
   "id": "a357842e",
   "metadata": {
    "hidden": true
   },
   "outputs": [
    {
     "data": {
      "text/plain": [
       "dtype('int32')"
      ]
     },
     "execution_count": 34,
     "metadata": {},
     "output_type": "execute_result"
    }
   ],
   "source": [
    "arr3.dtype"
   ]
  },
  {
   "cell_type": "markdown",
   "id": "a76e2672",
   "metadata": {
    "heading_collapsed": true
   },
   "source": [
    "### 3d array"
   ]
  },
  {
   "cell_type": "code",
   "execution_count": 41,
   "id": "7efc4488",
   "metadata": {
    "hidden": true
   },
   "outputs": [],
   "source": [
    "arr4=np.array([[1,2,3],[4,5,6],[7,8,9]],ndmin=3)"
   ]
  },
  {
   "cell_type": "code",
   "execution_count": 42,
   "id": "8fe0ddf3",
   "metadata": {
    "hidden": true
   },
   "outputs": [
    {
     "data": {
      "text/plain": [
       "array([[[1, 2, 3],\n",
       "        [4, 5, 6],\n",
       "        [7, 8, 9]]])"
      ]
     },
     "execution_count": 42,
     "metadata": {},
     "output_type": "execute_result"
    }
   ],
   "source": [
    "arr4"
   ]
  },
  {
   "cell_type": "code",
   "execution_count": 43,
   "id": "6f792402",
   "metadata": {
    "hidden": true
   },
   "outputs": [],
   "source": [
    "arr5=np.array([[1,2,3,4],[5,6,7,8],[9,10,11,12]],ndmin=4)"
   ]
  },
  {
   "cell_type": "code",
   "execution_count": 44,
   "id": "fc8f19f4",
   "metadata": {
    "hidden": true
   },
   "outputs": [
    {
     "data": {
      "text/plain": [
       "array([[[[ 1,  2,  3,  4],\n",
       "         [ 5,  6,  7,  8],\n",
       "         [ 9, 10, 11, 12]]]])"
      ]
     },
     "execution_count": 44,
     "metadata": {},
     "output_type": "execute_result"
    }
   ],
   "source": [
    "arr5"
   ]
  },
  {
   "cell_type": "code",
   "execution_count": 45,
   "id": "77aee31d",
   "metadata": {
    "hidden": true
   },
   "outputs": [
    {
     "data": {
      "text/plain": [
       "12"
      ]
     },
     "execution_count": 45,
     "metadata": {},
     "output_type": "execute_result"
    }
   ],
   "source": [
    "arr5.size"
   ]
  },
  {
   "cell_type": "code",
   "execution_count": 46,
   "id": "29a308fc",
   "metadata": {
    "hidden": true
   },
   "outputs": [
    {
     "data": {
      "text/plain": [
       "(1, 1, 3, 4)"
      ]
     },
     "execution_count": 46,
     "metadata": {},
     "output_type": "execute_result"
    }
   ],
   "source": [
    "arr5.shape"
   ]
  },
  {
   "cell_type": "code",
   "execution_count": 53,
   "id": "592569fd",
   "metadata": {
    "hidden": true
   },
   "outputs": [],
   "source": [
    "arr6=np.array([[[1,2,3,4],[5,6,7,8],[9,10,11,12]]])"
   ]
  },
  {
   "cell_type": "code",
   "execution_count": 54,
   "id": "e93b35ac",
   "metadata": {
    "hidden": true
   },
   "outputs": [
    {
     "data": {
      "text/plain": [
       "12"
      ]
     },
     "execution_count": 54,
     "metadata": {},
     "output_type": "execute_result"
    }
   ],
   "source": [
    "arr6.size"
   ]
  },
  {
   "cell_type": "code",
   "execution_count": 55,
   "id": "c04501b7",
   "metadata": {
    "hidden": true
   },
   "outputs": [
    {
     "data": {
      "text/plain": [
       "(1, 3, 4)"
      ]
     },
     "execution_count": 55,
     "metadata": {},
     "output_type": "execute_result"
    }
   ],
   "source": [
    "arr6.shape"
   ]
  },
  {
   "cell_type": "code",
   "execution_count": 56,
   "id": "4fa1f19d",
   "metadata": {
    "hidden": true
   },
   "outputs": [
    {
     "data": {
      "text/plain": [
       "3"
      ]
     },
     "execution_count": 56,
     "metadata": {},
     "output_type": "execute_result"
    }
   ],
   "source": [
    "arr6.ndim"
   ]
  },
  {
   "cell_type": "markdown",
   "id": "754bec6c",
   "metadata": {
    "heading_collapsed": true
   },
   "source": [
    "### using range creating array"
   ]
  },
  {
   "cell_type": "code",
   "execution_count": 57,
   "id": "35f078d1",
   "metadata": {
    "hidden": true
   },
   "outputs": [],
   "source": [
    "r=np.array(range(1,13),ndmin=4)"
   ]
  },
  {
   "cell_type": "code",
   "execution_count": 58,
   "id": "af167a71",
   "metadata": {
    "hidden": true
   },
   "outputs": [
    {
     "data": {
      "text/plain": [
       "(1, 1, 1, 12)"
      ]
     },
     "execution_count": 58,
     "metadata": {},
     "output_type": "execute_result"
    }
   ],
   "source": [
    "r.shape"
   ]
  },
  {
   "cell_type": "markdown",
   "id": "f954c556",
   "metadata": {
    "hidden": true
   },
   "source": [
    "reshaping"
   ]
  },
  {
   "cell_type": "code",
   "execution_count": 61,
   "id": "aab3b94f",
   "metadata": {
    "hidden": true
   },
   "outputs": [],
   "source": [
    "n=r.reshape(1,1,1,12)"
   ]
  },
  {
   "cell_type": "code",
   "execution_count": 62,
   "id": "4f2b31de",
   "metadata": {
    "hidden": true
   },
   "outputs": [
    {
     "data": {
      "text/plain": [
       "array([[[[ 1,  2,  3,  4,  5,  6,  7,  8,  9, 10, 11, 12]]]])"
      ]
     },
     "execution_count": 62,
     "metadata": {},
     "output_type": "execute_result"
    }
   ],
   "source": [
    "n"
   ]
  },
  {
   "cell_type": "code",
   "execution_count": 74,
   "id": "e1dd20a4",
   "metadata": {
    "hidden": true
   },
   "outputs": [],
   "source": [
    "s=np.array(range(24))"
   ]
  },
  {
   "cell_type": "code",
   "execution_count": 75,
   "id": "1c6ed9ff",
   "metadata": {
    "hidden": true
   },
   "outputs": [
    {
     "data": {
      "text/plain": [
       "(24,)"
      ]
     },
     "execution_count": 75,
     "metadata": {},
     "output_type": "execute_result"
    }
   ],
   "source": [
    "s.shape"
   ]
  },
  {
   "cell_type": "code",
   "execution_count": 76,
   "id": "a5af3439",
   "metadata": {
    "hidden": true
   },
   "outputs": [],
   "source": [
    "p=s.reshape(1,1,1,24)"
   ]
  },
  {
   "cell_type": "code",
   "execution_count": 77,
   "id": "611ba29f",
   "metadata": {
    "hidden": true
   },
   "outputs": [
    {
     "data": {
      "text/plain": [
       "array([[[[ 0,  1,  2,  3,  4,  5,  6,  7,  8,  9, 10, 11, 12, 13, 14,\n",
       "          15, 16, 17, 18, 19, 20, 21, 22, 23]]]])"
      ]
     },
     "execution_count": 77,
     "metadata": {},
     "output_type": "execute_result"
    }
   ],
   "source": [
    "p"
   ]
  },
  {
   "cell_type": "code",
   "execution_count": 78,
   "id": "4f83001a",
   "metadata": {
    "hidden": true
   },
   "outputs": [
    {
     "name": "stdout",
     "output_type": "stream",
     "text": [
      "4\n"
     ]
    }
   ],
   "source": [
    "print(p.ndim)"
   ]
  },
  {
   "cell_type": "code",
   "execution_count": 88,
   "id": "52276d91",
   "metadata": {
    "hidden": true
   },
   "outputs": [
    {
     "name": "stdout",
     "output_type": "stream",
     "text": [
      "1\n",
      "/n [[[ 0  1]\n",
      "  [ 2  3]\n",
      "  [ 4  5]]\n",
      "\n",
      " [[ 6  7]\n",
      "  [ 8  9]\n",
      "  [10 11]]]\n"
     ]
    }
   ],
   "source": [
    "l=np.array(range(12))\n",
    "print(l.ndim)\n",
    "q=l.reshape(2,3,2)\n",
    "print(\"/n\",q)"
   ]
  },
  {
   "cell_type": "code",
   "execution_count": 89,
   "id": "da98d3a7",
   "metadata": {
    "hidden": true
   },
   "outputs": [],
   "source": [
    "#create 3X3 array with only even values using range function"
   ]
  },
  {
   "cell_type": "code",
   "execution_count": 100,
   "id": "920c4f43",
   "metadata": {
    "hidden": true
   },
   "outputs": [
    {
     "data": {
      "text/plain": [
       "array([[ 1,  3,  5,  7,  9],\n",
       "       [11, 13, 15, 17, 19]])"
      ]
     },
     "execution_count": 100,
     "metadata": {},
     "output_type": "execute_result"
    }
   ],
   "source": [
    "np.arange(1,20,2).reshape(2,5)"
   ]
  },
  {
   "cell_type": "code",
   "execution_count": 101,
   "id": "59cf3024",
   "metadata": {
    "hidden": true
   },
   "outputs": [
    {
     "data": {
      "text/plain": [
       "array([ 0.        ,  1.11111111,  2.22222222,  3.33333333,  4.44444444,\n",
       "        5.55555556,  6.66666667,  7.77777778,  8.88888889, 10.        ])"
      ]
     },
     "execution_count": 101,
     "metadata": {},
     "output_type": "execute_result"
    }
   ],
   "source": [
    "#linspace used to print specific number of values using range function\n",
    "np.linspace(0,10,10)"
   ]
  },
  {
   "cell_type": "code",
   "execution_count": 103,
   "id": "d8733613",
   "metadata": {
    "hidden": true
   },
   "outputs": [
    {
     "data": {
      "text/plain": [
       "array([ 0.        ,  0.52631579,  1.05263158,  1.57894737,  2.10526316,\n",
       "        2.63157895,  3.15789474,  3.68421053,  4.21052632,  4.73684211,\n",
       "        5.26315789,  5.78947368,  6.31578947,  6.84210526,  7.36842105,\n",
       "        7.89473684,  8.42105263,  8.94736842,  9.47368421, 10.        ])"
      ]
     },
     "execution_count": 103,
     "metadata": {},
     "output_type": "execute_result"
    }
   ],
   "source": [
    "np.linspace(0,10,20)"
   ]
  },
  {
   "cell_type": "code",
   "execution_count": 104,
   "id": "92a110e2",
   "metadata": {
    "hidden": true
   },
   "outputs": [
    {
     "data": {
      "text/plain": [
       "array([[1, 1],\n",
       "       [1, 1],\n",
       "       [1, 1]])"
      ]
     },
     "execution_count": 104,
     "metadata": {},
     "output_type": "execute_result"
    }
   ],
   "source": [
    "np.ones((2,3),dtype='int').reshape(3,2)"
   ]
  },
  {
   "cell_type": "code",
   "execution_count": 106,
   "id": "6a14dcc7",
   "metadata": {
    "hidden": true
   },
   "outputs": [
    {
     "data": {
      "text/plain": [
       "array([[0, 0, 0],\n",
       "       [0, 0, 0]])"
      ]
     },
     "execution_count": 106,
     "metadata": {},
     "output_type": "execute_result"
    }
   ],
   "source": [
    "np.zeros((2,3),dtype='int')"
   ]
  },
  {
   "cell_type": "code",
   "execution_count": 105,
   "id": "3d5bb3ea",
   "metadata": {
    "hidden": true
   },
   "outputs": [
    {
     "data": {
      "text/plain": [
       "array([[5, 5, 5],\n",
       "       [5, 5, 5],\n",
       "       [5, 5, 5],\n",
       "       [5, 5, 5]])"
      ]
     },
     "execution_count": 105,
     "metadata": {},
     "output_type": "execute_result"
    }
   ],
   "source": [
    "np.full((4,3),5)"
   ]
  },
  {
   "cell_type": "code",
   "execution_count": 4,
   "id": "924ebe82",
   "metadata": {
    "hidden": true
   },
   "outputs": [
    {
     "data": {
      "text/plain": [
       "array([[1., 0., 0.],\n",
       "       [0., 1., 0.],\n",
       "       [0., 0., 1.]])"
      ]
     },
     "execution_count": 4,
     "metadata": {},
     "output_type": "execute_result"
    }
   ],
   "source": [
    "np.identity(3)"
   ]
  },
  {
   "cell_type": "code",
   "execution_count": 6,
   "id": "a5019303",
   "metadata": {
    "hidden": true
   },
   "outputs": [
    {
     "data": {
      "text/plain": [
       "array([[1., 0., 0.],\n",
       "       [0., 1., 0.],\n",
       "       [0., 0., 1.],\n",
       "       [0., 0., 0.]])"
      ]
     },
     "execution_count": 6,
     "metadata": {},
     "output_type": "execute_result"
    }
   ],
   "source": [
    "np.eye(4,3)"
   ]
  },
  {
   "cell_type": "markdown",
   "id": "ebe98eb3",
   "metadata": {
    "heading_collapsed": true
   },
   "source": [
    "### numpy random number"
   ]
  },
  {
   "cell_type": "code",
   "execution_count": 7,
   "id": "89402712",
   "metadata": {
    "hidden": true
   },
   "outputs": [
    {
     "data": {
      "text/plain": [
       "array([0.37960677, 0.9905714 , 0.04288663, 0.97319848, 0.28048588,\n",
       "       0.4764906 , 0.05199327, 0.0906321 , 0.42598461, 0.75477776,\n",
       "       0.64671227, 0.38664041])"
      ]
     },
     "execution_count": 7,
     "metadata": {},
     "output_type": "execute_result"
    }
   ],
   "source": [
    "np.random.rand(12)  # uniformed values from 0 to 1"
   ]
  },
  {
   "cell_type": "code",
   "execution_count": 9,
   "id": "1c77baaa",
   "metadata": {
    "hidden": true
   },
   "outputs": [
    {
     "data": {
      "text/plain": [
       "array([[0.24100817],\n",
       "       [0.06775152]])"
      ]
     },
     "execution_count": 9,
     "metadata": {},
     "output_type": "execute_result"
    }
   ],
   "source": [
    "np.random.rand(2,1)"
   ]
  },
  {
   "cell_type": "code",
   "execution_count": 10,
   "id": "64a56875",
   "metadata": {
    "hidden": true
   },
   "outputs": [
    {
     "data": {
      "text/plain": [
       "array([[ 0.30367966,  0.89207974, -0.85082984],\n",
       "       [-0.01131535, -0.86274454,  1.67866498],\n",
       "       [-1.17841594, -0.32187648,  2.26580446]])"
      ]
     },
     "execution_count": 10,
     "metadata": {},
     "output_type": "execute_result"
    }
   ],
   "source": [
    "np.random.randn(3,3)"
   ]
  },
  {
   "cell_type": "code",
   "execution_count": 11,
   "id": "31698a3a",
   "metadata": {
    "hidden": true
   },
   "outputs": [
    {
     "data": {
      "text/plain": [
       "array([[6, 4, 1, 6],\n",
       "       [8, 2, 8, 5],\n",
       "       [8, 1, 7, 4]])"
      ]
     },
     "execution_count": 11,
     "metadata": {},
     "output_type": "execute_result"
    }
   ],
   "source": [
    "np.random.randint(1,10,size=(3,4))"
   ]
  },
  {
   "cell_type": "code",
   "execution_count": 13,
   "id": "fd97ae50",
   "metadata": {
    "hidden": true
   },
   "outputs": [
    {
     "data": {
      "text/plain": [
       "array([[7, 1, 1],\n",
       "       [1, 6, 8],\n",
       "       [9, 1, 9]])"
      ]
     },
     "execution_count": 13,
     "metadata": {},
     "output_type": "execute_result"
    }
   ],
   "source": [
    "np.random.randint(1,12,size=(3,3))"
   ]
  },
  {
   "cell_type": "code",
   "execution_count": 15,
   "id": "e6e20c8d",
   "metadata": {
    "hidden": true
   },
   "outputs": [
    {
     "data": {
      "text/plain": [
       "array([[11.96449799, 11.39420328, 11.78167014, 11.93797796, 11.15026059],\n",
       "       [11.96027608, 11.86611637, 11.9665286 , 11.35466939, 11.51153606],\n",
       "       [11.44656276, 11.19861024, 11.93551677, 11.31621604, 11.93402467],\n",
       "       [11.6655459 , 11.59648302, 11.98721003, 11.42369439, 11.31231754],\n",
       "       [11.06003167, 11.99181887, 11.01372166, 11.76488163, 11.12128476]])"
      ]
     },
     "execution_count": 15,
     "metadata": {},
     "output_type": "execute_result"
    }
   ],
   "source": [
    "np.random.uniform(12,11,size=(5,5))"
   ]
  },
  {
   "cell_type": "markdown",
   "id": "8b70b383",
   "metadata": {
    "heading_collapsed": true
   },
   "source": [
    "### random seed"
   ]
  },
  {
   "cell_type": "code",
   "execution_count": 19,
   "id": "8d455e66",
   "metadata": {
    "hidden": true
   },
   "outputs": [
    {
     "data": {
      "text/plain": [
       "array([[12, 15, 18, 14, 11],\n",
       "       [14, 13, 10, 12, 14],\n",
       "       [16, 13, 19, 14, 19],\n",
       "       [18, 16, 17, 15, 19],\n",
       "       [19, 17, 13, 14, 18],\n",
       "       [13, 14, 13, 14, 12]])"
      ]
     },
     "execution_count": 19,
     "metadata": {},
     "output_type": "execute_result"
    }
   ],
   "source": [
    "np.random.seed(121)\n",
    "np.random.randint(10,20,size=(6,5))"
   ]
  },
  {
   "cell_type": "markdown",
   "id": "53e0675e",
   "metadata": {
    "heading_collapsed": true
   },
   "source": [
    "### indexing and slicing"
   ]
  },
  {
   "cell_type": "code",
   "execution_count": 24,
   "id": "2ef0d991",
   "metadata": {
    "hidden": true
   },
   "outputs": [
    {
     "data": {
      "text/plain": [
       "array([1, 2, 3, 4, 5, 6])"
      ]
     },
     "execution_count": 24,
     "metadata": {},
     "output_type": "execute_result"
    }
   ],
   "source": [
    "s=np.arange(1,10)\n",
    "s[:-3]"
   ]
  },
  {
   "cell_type": "code",
   "execution_count": 26,
   "id": "727da95d",
   "metadata": {
    "hidden": true
   },
   "outputs": [],
   "source": [
    "l=np.array(range(12,32),ndmin=2).reshape(4,5)"
   ]
  },
  {
   "cell_type": "code",
   "execution_count": 27,
   "id": "87b3dc2b",
   "metadata": {
    "hidden": true
   },
   "outputs": [
    {
     "data": {
      "text/plain": [
       "array([[12, 13, 14, 15, 16],\n",
       "       [17, 18, 19, 20, 21],\n",
       "       [22, 23, 24, 25, 26],\n",
       "       [27, 28, 29, 30, 31]])"
      ]
     },
     "execution_count": 27,
     "metadata": {},
     "output_type": "execute_result"
    }
   ],
   "source": [
    "l"
   ]
  },
  {
   "cell_type": "code",
   "execution_count": 29,
   "id": "ac1ee341",
   "metadata": {
    "hidden": true
   },
   "outputs": [
    {
     "data": {
      "text/plain": [
       "19"
      ]
     },
     "execution_count": 29,
     "metadata": {},
     "output_type": "execute_result"
    }
   ],
   "source": [
    "l[1][2]"
   ]
  },
  {
   "cell_type": "code",
   "execution_count": 30,
   "id": "9042917d",
   "metadata": {
    "hidden": true
   },
   "outputs": [
    {
     "data": {
      "text/plain": [
       "30"
      ]
     },
     "execution_count": 30,
     "metadata": {},
     "output_type": "execute_result"
    }
   ],
   "source": [
    "l[3,3]"
   ]
  },
  {
   "cell_type": "code",
   "execution_count": 31,
   "id": "58e095ff",
   "metadata": {
    "hidden": true
   },
   "outputs": [
    {
     "data": {
      "text/plain": [
       "array([23, 24])"
      ]
     },
     "execution_count": 31,
     "metadata": {},
     "output_type": "execute_result"
    }
   ],
   "source": [
    "l[2,1:3]"
   ]
  },
  {
   "cell_type": "code",
   "execution_count": 33,
   "id": "2681bc7c",
   "metadata": {
    "hidden": true
   },
   "outputs": [
    {
     "data": {
      "text/plain": [
       "array([27, 28])"
      ]
     },
     "execution_count": 33,
     "metadata": {},
     "output_type": "execute_result"
    }
   ],
   "source": [
    "l[3,:-3]"
   ]
  },
  {
   "cell_type": "markdown",
   "id": "745f729e",
   "metadata": {
    "heading_collapsed": true
   },
   "source": [
    "### dimension change"
   ]
  },
  {
   "cell_type": "code",
   "execution_count": 43,
   "id": "591c14ee",
   "metadata": {
    "hidden": true
   },
   "outputs": [],
   "source": [
    "r=np.array(range(12,32),ndmin=2).reshape(4,5)"
   ]
  },
  {
   "cell_type": "code",
   "execution_count": 44,
   "id": "eb0a2b5a",
   "metadata": {
    "hidden": true
   },
   "outputs": [
    {
     "data": {
      "text/plain": [
       "array([[12, 13, 14, 15, 16],\n",
       "       [17, 18, 19, 20, 21],\n",
       "       [22, 23, 24, 25, 26],\n",
       "       [27, 28, 29, 30, 31]])"
      ]
     },
     "execution_count": 44,
     "metadata": {},
     "output_type": "execute_result"
    }
   ],
   "source": [
    "r"
   ]
  },
  {
   "cell_type": "code",
   "execution_count": 45,
   "id": "93791405",
   "metadata": {
    "hidden": true
   },
   "outputs": [
    {
     "data": {
      "text/plain": [
       "array([[31, 30, 29, 28, 27],\n",
       "       [26, 25, 24, 23, 22],\n",
       "       [21, 20, 19, 18, 17],\n",
       "       [16, 15, 14, 13, 12]])"
      ]
     },
     "execution_count": 45,
     "metadata": {},
     "output_type": "execute_result"
    }
   ],
   "source": [
    "np.flip(r)"
   ]
  },
  {
   "cell_type": "code",
   "execution_count": 46,
   "id": "93c62324",
   "metadata": {
    "hidden": true
   },
   "outputs": [
    {
     "data": {
      "text/plain": [
       "array([[16, 15, 14, 13, 12],\n",
       "       [21, 20, 19, 18, 17],\n",
       "       [26, 25, 24, 23, 22],\n",
       "       [31, 30, 29, 28, 27]])"
      ]
     },
     "execution_count": 46,
     "metadata": {},
     "output_type": "execute_result"
    }
   ],
   "source": [
    "np.fliplr(r)"
   ]
  },
  {
   "cell_type": "code",
   "execution_count": 47,
   "id": "ebdb161f",
   "metadata": {
    "hidden": true
   },
   "outputs": [
    {
     "data": {
      "text/plain": [
       "array([[27, 28, 29, 30, 31],\n",
       "       [22, 23, 24, 25, 26],\n",
       "       [17, 18, 19, 20, 21],\n",
       "       [12, 13, 14, 15, 16]])"
      ]
     },
     "execution_count": 47,
     "metadata": {},
     "output_type": "execute_result"
    }
   ],
   "source": [
    "np.flipud(r)"
   ]
  },
  {
   "cell_type": "code",
   "execution_count": 49,
   "id": "4a2d4f62",
   "metadata": {
    "hidden": true
   },
   "outputs": [
    {
     "data": {
      "text/plain": [
       "array([[16, 21, 26, 31],\n",
       "       [15, 20, 25, 30],\n",
       "       [14, 19, 24, 29],\n",
       "       [13, 18, 23, 28],\n",
       "       [12, 17, 22, 27]])"
      ]
     },
     "execution_count": 49,
     "metadata": {},
     "output_type": "execute_result"
    }
   ],
   "source": [
    "np.rot90(r)"
   ]
  },
  {
   "cell_type": "code",
   "execution_count": 50,
   "id": "75b1235f",
   "metadata": {
    "hidden": true
   },
   "outputs": [
    {
     "data": {
      "text/plain": [
       "array([[12, 17, 22, 27],\n",
       "       [13, 18, 23, 28],\n",
       "       [14, 19, 24, 29],\n",
       "       [15, 20, 25, 30],\n",
       "       [16, 21, 26, 31]])"
      ]
     },
     "execution_count": 50,
     "metadata": {},
     "output_type": "execute_result"
    }
   ],
   "source": [
    "r.transpose()"
   ]
  },
  {
   "cell_type": "markdown",
   "id": "92fd7733",
   "metadata": {
    "heading_collapsed": true
   },
   "source": [
    "### statistical measures"
   ]
  },
  {
   "cell_type": "code",
   "execution_count": 53,
   "id": "64048122",
   "metadata": {
    "hidden": true
   },
   "outputs": [],
   "source": [
    "z=np.array(range(20,40))"
   ]
  },
  {
   "cell_type": "code",
   "execution_count": 54,
   "id": "1600d0cd",
   "metadata": {
    "hidden": true
   },
   "outputs": [
    {
     "data": {
      "text/plain": [
       "29.5"
      ]
     },
     "execution_count": 54,
     "metadata": {},
     "output_type": "execute_result"
    }
   ],
   "source": [
    "z.mean()"
   ]
  },
  {
   "cell_type": "code",
   "execution_count": 55,
   "id": "805cc3b2",
   "metadata": {
    "hidden": true
   },
   "outputs": [
    {
     "data": {
      "text/plain": [
       "33.25"
      ]
     },
     "execution_count": 55,
     "metadata": {},
     "output_type": "execute_result"
    }
   ],
   "source": [
    "z.var()"
   ]
  },
  {
   "cell_type": "code",
   "execution_count": 56,
   "id": "d8c4af2c",
   "metadata": {
    "hidden": true
   },
   "outputs": [
    {
     "data": {
      "text/plain": [
       "5.766281297335398"
      ]
     },
     "execution_count": 56,
     "metadata": {},
     "output_type": "execute_result"
    }
   ],
   "source": [
    "z.std()"
   ]
  },
  {
   "cell_type": "code",
   "execution_count": 57,
   "id": "157f5cb7",
   "metadata": {
    "hidden": true
   },
   "outputs": [
    {
     "data": {
      "text/plain": [
       "39"
      ]
     },
     "execution_count": 57,
     "metadata": {},
     "output_type": "execute_result"
    }
   ],
   "source": [
    "z.max()"
   ]
  },
  {
   "cell_type": "code",
   "execution_count": 58,
   "id": "3b0d2be3",
   "metadata": {
    "hidden": true
   },
   "outputs": [
    {
     "data": {
      "text/plain": [
       "20"
      ]
     },
     "execution_count": 58,
     "metadata": {},
     "output_type": "execute_result"
    }
   ],
   "source": [
    "z.min()"
   ]
  },
  {
   "cell_type": "code",
   "execution_count": 64,
   "id": "aad96fa7",
   "metadata": {
    "hidden": true
   },
   "outputs": [
    {
     "data": {
      "text/plain": [
       "29.5"
      ]
     },
     "execution_count": 64,
     "metadata": {},
     "output_type": "execute_result"
    }
   ],
   "source": [
    "np.median(z)"
   ]
  },
  {
   "cell_type": "code",
   "execution_count": 66,
   "id": "d595eee5",
   "metadata": {
    "hidden": true
   },
   "outputs": [
    {
     "data": {
      "text/plain": [
       "590"
      ]
     },
     "execution_count": 66,
     "metadata": {},
     "output_type": "execute_result"
    }
   ],
   "source": [
    "np.sum(z)"
   ]
  },
  {
   "cell_type": "markdown",
   "id": "b193aea2",
   "metadata": {
    "heading_collapsed": true
   },
   "source": [
    "### mathematical operators on arrays"
   ]
  },
  {
   "cell_type": "code",
   "execution_count": 104,
   "id": "a3a44f2a",
   "metadata": {
    "hidden": true
   },
   "outputs": [],
   "source": [
    "w=np.array(range(15,24),ndmin=3).reshape(3,3)\n",
    "m=np.array(range(25,34),ndmin=3).reshape(3,3)"
   ]
  },
  {
   "cell_type": "code",
   "execution_count": 89,
   "id": "d68b3c96",
   "metadata": {
    "hidden": true
   },
   "outputs": [
    {
     "data": {
      "text/plain": [
       "(array([[15, 16, 17],\n",
       "        [18, 19, 20],\n",
       "        [21, 22, 23]]),\n",
       " array([[ 625,  676,  729],\n",
       "        [ 784,  841,  900],\n",
       "        [ 961, 1024, 1089]], dtype=int32))"
      ]
     },
     "execution_count": 89,
     "metadata": {},
     "output_type": "execute_result"
    }
   ],
   "source": [
    "w,m **2"
   ]
  },
  {
   "cell_type": "code",
   "execution_count": 83,
   "id": "8bf39b66",
   "metadata": {
    "hidden": true
   },
   "outputs": [
    {
     "data": {
      "text/plain": [
       "array([[-10, -10, -10],\n",
       "       [-10, -10, -10],\n",
       "       [-10, -10, -10]])"
      ]
     },
     "execution_count": 83,
     "metadata": {},
     "output_type": "execute_result"
    }
   ],
   "source": [
    "w-m"
   ]
  },
  {
   "cell_type": "code",
   "execution_count": 84,
   "id": "530ce2f8",
   "metadata": {
    "hidden": true
   },
   "outputs": [
    {
     "data": {
      "text/plain": [
       "array([[0.6       , 0.61538462, 0.62962963],\n",
       "       [0.64285714, 0.65517241, 0.66666667],\n",
       "       [0.67741935, 0.6875    , 0.6969697 ]])"
      ]
     },
     "execution_count": 84,
     "metadata": {},
     "output_type": "execute_result"
    }
   ],
   "source": [
    "w/m"
   ]
  },
  {
   "cell_type": "code",
   "execution_count": 85,
   "id": "fd1e607a",
   "metadata": {
    "hidden": true
   },
   "outputs": [
    {
     "data": {
      "text/plain": [
       "array([[15, 16, 17],\n",
       "       [18, 19, 20],\n",
       "       [21, 22, 23]], dtype=int32)"
      ]
     },
     "execution_count": 85,
     "metadata": {},
     "output_type": "execute_result"
    }
   ],
   "source": [
    "w%m"
   ]
  },
  {
   "cell_type": "code",
   "execution_count": 90,
   "id": "ea822082",
   "metadata": {
    "hidden": true
   },
   "outputs": [
    {
     "data": {
      "text/plain": [
       "array([[40, 42, 44],\n",
       "       [46, 48, 50],\n",
       "       [52, 54, 56]])"
      ]
     },
     "execution_count": 90,
     "metadata": {},
     "output_type": "execute_result"
    }
   ],
   "source": [
    "w+m"
   ]
  },
  {
   "cell_type": "markdown",
   "id": "039a97cd",
   "metadata": {
    "heading_collapsed": true
   },
   "source": [
    "### stacking and splitting"
   ]
  },
  {
   "cell_type": "code",
   "execution_count": 91,
   "id": "ff273457",
   "metadata": {
    "hidden": true
   },
   "outputs": [
    {
     "data": {
      "text/plain": [
       "array([[15, 16, 17],\n",
       "       [18, 19, 20],\n",
       "       [21, 22, 23]])"
      ]
     },
     "execution_count": 91,
     "metadata": {},
     "output_type": "execute_result"
    }
   ],
   "source": [
    "w"
   ]
  },
  {
   "cell_type": "code",
   "execution_count": 93,
   "id": "25349532",
   "metadata": {
    "hidden": true
   },
   "outputs": [
    {
     "data": {
      "text/plain": [
       "array([[15, 16, 17, 15, 16, 17, 25, 26, 27],\n",
       "       [18, 19, 20, 18, 19, 20, 28, 29, 30],\n",
       "       [21, 22, 23, 21, 22, 23, 31, 32, 33]])"
      ]
     },
     "execution_count": 93,
     "metadata": {},
     "output_type": "execute_result"
    }
   ],
   "source": [
    "np.hstack((w,w,m))"
   ]
  },
  {
   "cell_type": "code",
   "execution_count": 95,
   "id": "aa35cc5a",
   "metadata": {
    "hidden": true
   },
   "outputs": [
    {
     "data": {
      "text/plain": [
       "array([[15, 16, 17],\n",
       "       [18, 19, 20],\n",
       "       [21, 22, 23],\n",
       "       [25, 26, 27],\n",
       "       [28, 29, 30],\n",
       "       [31, 32, 33]])"
      ]
     },
     "execution_count": 95,
     "metadata": {},
     "output_type": "execute_result"
    }
   ],
   "source": [
    "np.vstack((w,m))"
   ]
  },
  {
   "cell_type": "code",
   "execution_count": 96,
   "id": "df934115",
   "metadata": {
    "hidden": true
   },
   "outputs": [
    {
     "data": {
      "text/plain": [
       "array([[[15, 25],\n",
       "        [16, 26],\n",
       "        [17, 27]],\n",
       "\n",
       "       [[18, 28],\n",
       "        [19, 29],\n",
       "        [20, 30]],\n",
       "\n",
       "       [[21, 31],\n",
       "        [22, 32],\n",
       "        [23, 33]]])"
      ]
     },
     "execution_count": 96,
     "metadata": {},
     "output_type": "execute_result"
    }
   ],
   "source": [
    "np.dstack((w,m))"
   ]
  },
  {
   "cell_type": "code",
   "execution_count": 112,
   "id": "a8285a01",
   "metadata": {
    "hidden": true
   },
   "outputs": [
    {
     "data": {
      "text/plain": [
       "[array([[25, 26, 27]]), array([[28, 29, 30]]), array([[31, 32, 33]])]"
      ]
     },
     "execution_count": 112,
     "metadata": {},
     "output_type": "execute_result"
    }
   ],
   "source": [
    "np.vsplit(m,3)"
   ]
  },
  {
   "cell_type": "code",
   "execution_count": 114,
   "id": "14dcc852",
   "metadata": {
    "hidden": true
   },
   "outputs": [
    {
     "data": {
      "text/plain": [
       "[array([[15],\n",
       "        [18],\n",
       "        [21]]),\n",
       " array([[16],\n",
       "        [19],\n",
       "        [22]]),\n",
       " array([[17],\n",
       "        [20],\n",
       "        [23]])]"
      ]
     },
     "execution_count": 114,
     "metadata": {},
     "output_type": "execute_result"
    }
   ],
   "source": [
    "np.hsplit(w,3)"
   ]
  },
  {
   "cell_type": "code",
   "execution_count": 115,
   "id": "85b1c482",
   "metadata": {
    "hidden": true
   },
   "outputs": [
    {
     "data": {
      "text/plain": [
       "array([[15, 16, 17, 25, 26, 27],\n",
       "       [18, 19, 20, 28, 29, 30],\n",
       "       [21, 22, 23, 31, 32, 33]])"
      ]
     },
     "execution_count": 115,
     "metadata": {},
     "output_type": "execute_result"
    }
   ],
   "source": [
    "np.concatenate((w,m),axis=1)"
   ]
  },
  {
   "cell_type": "code",
   "execution_count": 6,
   "id": "da88164b",
   "metadata": {
    "hidden": true
   },
   "outputs": [
    {
     "data": {
      "text/plain": [
       "3.1423"
      ]
     },
     "execution_count": 6,
     "metadata": {},
     "output_type": "execute_result"
    }
   ],
   "source": [
    "a=3.14232\n",
    "np.round(a,4)"
   ]
  },
  {
   "cell_type": "code",
   "execution_count": 7,
   "id": "fe283c6f",
   "metadata": {
    "hidden": true
   },
   "outputs": [
    {
     "data": {
      "text/plain": [
       "3.0"
      ]
     },
     "execution_count": 7,
     "metadata": {},
     "output_type": "execute_result"
    }
   ],
   "source": [
    "np.round(a)"
   ]
  },
  {
   "cell_type": "code",
   "execution_count": 8,
   "id": "886b537c",
   "metadata": {
    "hidden": true
   },
   "outputs": [
    {
     "data": {
      "text/plain": [
       "3.14"
      ]
     },
     "execution_count": 8,
     "metadata": {},
     "output_type": "execute_result"
    }
   ],
   "source": [
    "np.round(a,2)"
   ]
  },
  {
   "cell_type": "code",
   "execution_count": 9,
   "id": "072c078c",
   "metadata": {
    "hidden": true
   },
   "outputs": [
    {
     "data": {
      "text/plain": [
       "3.0"
      ]
     },
     "execution_count": 9,
     "metadata": {},
     "output_type": "execute_result"
    }
   ],
   "source": [
    "## floor\n",
    "np.floor(a)"
   ]
  },
  {
   "cell_type": "code",
   "execution_count": 10,
   "id": "f3a7b65f",
   "metadata": {
    "hidden": true
   },
   "outputs": [
    {
     "data": {
      "text/plain": [
       "4.0"
      ]
     },
     "execution_count": 10,
     "metadata": {},
     "output_type": "execute_result"
    }
   ],
   "source": [
    "np.ceil(a)"
   ]
  },
  {
   "cell_type": "markdown",
   "id": "1a9fe548",
   "metadata": {
    "heading_collapsed": true
   },
   "source": [
    "### rounding functions"
   ]
  },
  {
   "cell_type": "code",
   "execution_count": 12,
   "id": "e8ebc574",
   "metadata": {
    "hidden": true
   },
   "outputs": [
    {
     "data": {
      "text/plain": [
       "3.297"
      ]
     },
     "execution_count": 12,
     "metadata": {},
     "output_type": "execute_result"
    }
   ],
   "source": [
    "num=3.296511561216\n",
    "np.round(num,3)"
   ]
  },
  {
   "cell_type": "code",
   "execution_count": null,
   "id": "3cfea1e8",
   "metadata": {
    "hidden": true
   },
   "outputs": [],
   "source": []
  },
  {
   "cell_type": "code",
   "execution_count": null,
   "id": "3dd16958",
   "metadata": {
    "hidden": true
   },
   "outputs": [],
   "source": []
  },
  {
   "cell_type": "markdown",
   "id": "cabfb88b",
   "metadata": {
    "heading_collapsed": true
   },
   "source": [
    "### ravel function"
   ]
  },
  {
   "cell_type": "code",
   "execution_count": 15,
   "id": "2700e274",
   "metadata": {
    "hidden": true
   },
   "outputs": [
    {
     "data": {
      "text/plain": [
       "array([[ 1,  2,  3],\n",
       "       [ 4,  5,  6],\n",
       "       [ 7,  8,  9],\n",
       "       [10, 11, 12],\n",
       "       [13, 14, 15]])"
      ]
     },
     "execution_count": 15,
     "metadata": {},
     "output_type": "execute_result"
    }
   ],
   "source": [
    "arr=np.array(range(1,16)).reshape(5,3)\n",
    "arr"
   ]
  },
  {
   "cell_type": "code",
   "execution_count": 16,
   "id": "8d4e2f19",
   "metadata": {
    "hidden": true
   },
   "outputs": [
    {
     "data": {
      "text/plain": [
       "array([ 1,  2,  3,  4,  5,  6,  7,  8,  9, 10, 11, 12, 13, 14, 15])"
      ]
     },
     "execution_count": 16,
     "metadata": {},
     "output_type": "execute_result"
    }
   ],
   "source": [
    "np.ravel(arr)"
   ]
  },
  {
   "cell_type": "code",
   "execution_count": 17,
   "id": "59427a2c",
   "metadata": {
    "hidden": true
   },
   "outputs": [
    {
     "data": {
      "text/plain": [
       "2"
      ]
     },
     "execution_count": 17,
     "metadata": {},
     "output_type": "execute_result"
    }
   ],
   "source": [
    "arr.ndim"
   ]
  },
  {
   "cell_type": "code",
   "execution_count": 25,
   "id": "81794ef5",
   "metadata": {
    "hidden": true
   },
   "outputs": [
    {
     "data": {
      "text/plain": [
       "array([[[12, 13, 14, 15, 16],\n",
       "        [17, 18, 19, 20, 21],\n",
       "        [22, 23, 24, 25, 26]],\n",
       "\n",
       "       [[27, 28, 29, 30, 31],\n",
       "        [32, 33, 34, 35, 36],\n",
       "        [37, 38, 39, 40, 41]],\n",
       "\n",
       "       [[42, 43, 44, 45, 46],\n",
       "        [47, 48, 49, 50, 51],\n",
       "        [52, 53, 54, 55, 56]]])"
      ]
     },
     "execution_count": 25,
     "metadata": {},
     "output_type": "execute_result"
    }
   ],
   "source": [
    "l=np.array(range(12,57)).reshape(3,3,5)\n",
    "l"
   ]
  },
  {
   "cell_type": "code",
   "execution_count": 26,
   "id": "6f78b63e",
   "metadata": {
    "hidden": true
   },
   "outputs": [
    {
     "data": {
      "text/plain": [
       "array([12, 13, 14, 15, 16, 17, 18, 19, 20, 21, 22, 23, 24, 25, 26, 27, 28,\n",
       "       29, 30, 31, 32, 33, 34, 35, 36, 37, 38, 39, 40, 41, 42, 43, 44, 45,\n",
       "       46, 47, 48, 49, 50, 51, 52, 53, 54, 55, 56])"
      ]
     },
     "execution_count": 26,
     "metadata": {},
     "output_type": "execute_result"
    }
   ],
   "source": [
    "np.ravel(l)"
   ]
  },
  {
   "cell_type": "code",
   "execution_count": 27,
   "id": "6fab7c50",
   "metadata": {
    "hidden": true
   },
   "outputs": [
    {
     "data": {
      "text/plain": [
       "3"
      ]
     },
     "execution_count": 27,
     "metadata": {},
     "output_type": "execute_result"
    }
   ],
   "source": [
    "l.ndim"
   ]
  },
  {
   "cell_type": "markdown",
   "id": "b1f0edfa",
   "metadata": {
    "heading_collapsed": true
   },
   "source": [
    "### set operations"
   ]
  },
  {
   "cell_type": "code",
   "execution_count": 31,
   "id": "5c9e902b",
   "metadata": {
    "hidden": true
   },
   "outputs": [
    {
     "name": "stdout",
     "output_type": "stream",
     "text": [
      "[1 2 3 4 5 6 7 8 9]\n",
      "[ 8  9 10 11 12 13 14 15 16 17 18 19]\n"
     ]
    }
   ],
   "source": [
    "ar1=np.arange(1,10)\n",
    "ar2=np.arange(8,20)\n",
    "print(ar1)\n",
    "print(ar2)"
   ]
  },
  {
   "cell_type": "code",
   "execution_count": 34,
   "id": "fe4ff054",
   "metadata": {
    "hidden": true
   },
   "outputs": [
    {
     "data": {
      "text/plain": [
       "array([ 1,  2,  3,  4,  5,  6,  7,  8,  9, 10, 11, 12, 13, 14, 15, 16, 17,\n",
       "       18, 19])"
      ]
     },
     "execution_count": 34,
     "metadata": {},
     "output_type": "execute_result"
    }
   ],
   "source": [
    "### union\n",
    "np.union1d(ar1,ar2)"
   ]
  },
  {
   "cell_type": "code",
   "execution_count": 35,
   "id": "1ffe2a62",
   "metadata": {
    "hidden": true
   },
   "outputs": [
    {
     "data": {
      "text/plain": [
       "array([8, 9])"
      ]
     },
     "execution_count": 35,
     "metadata": {},
     "output_type": "execute_result"
    }
   ],
   "source": [
    "## intersecting\n",
    "np.intersect1d(ar1,ar2)"
   ]
  },
  {
   "cell_type": "code",
   "execution_count": 60,
   "id": "0588c9c1",
   "metadata": {
    "hidden": true
   },
   "outputs": [
    {
     "name": "stdout",
     "output_type": "stream",
     "text": [
      "[[1 2]\n",
      " [3 4]\n",
      " [5 6]\n",
      " [7 8]]\n",
      "[[ 8  9]\n",
      " [10 11]\n",
      " [12 13]\n",
      " [14 15]]\n"
     ]
    }
   ],
   "source": [
    "### for different dimensional arrays\n",
    "ar3=np.array(range(1,9),ndmin=4).reshape(4,2)\n",
    "print(ar3)\n",
    "ar4=np.array(range(8,16),ndmin=4).reshape(4,2)\n",
    "print(ar4)"
   ]
  },
  {
   "cell_type": "code",
   "execution_count": 39,
   "id": "4e946b48",
   "metadata": {
    "hidden": true
   },
   "outputs": [
    {
     "data": {
      "text/plain": [
       "array([1, 2, 3, 4, 5, 6, 7])"
      ]
     },
     "execution_count": 39,
     "metadata": {},
     "output_type": "execute_result"
    }
   ],
   "source": [
    "np.setdiff1d(ar3,ar4)"
   ]
  },
  {
   "cell_type": "markdown",
   "id": "bf8135d9",
   "metadata": {
    "heading_collapsed": true
   },
   "source": [
    "### array broadcasting"
   ]
  },
  {
   "cell_type": "code",
   "execution_count": 42,
   "id": "69ecdcde",
   "metadata": {
    "hidden": true
   },
   "outputs": [
    {
     "data": {
      "text/plain": [
       "array([[ 1,  2,  3,  4],\n",
       "       [ 5,  6,  7,  8],\n",
       "       [ 9, 10, 11, 12],\n",
       "       [13, 14, 15, 16],\n",
       "       [17, 18, 19, 20]])"
      ]
     },
     "execution_count": 42,
     "metadata": {},
     "output_type": "execute_result"
    }
   ],
   "source": [
    "a=np.array(range(1,21)).reshape(5,4)\n",
    "a"
   ]
  },
  {
   "cell_type": "code",
   "execution_count": 43,
   "id": "6677f730",
   "metadata": {
    "hidden": true
   },
   "outputs": [
    {
     "data": {
      "text/plain": [
       "array([[ 9, 10, 11, 12],\n",
       "       [13, 14, 15, 16],\n",
       "       [17, 18, 19, 20],\n",
       "       [21, 22, 23, 24],\n",
       "       [25, 26, 27, 28]])"
      ]
     },
     "execution_count": 43,
     "metadata": {},
     "output_type": "execute_result"
    }
   ],
   "source": [
    "a+8"
   ]
  },
  {
   "cell_type": "code",
   "execution_count": 44,
   "id": "39cfc79f",
   "metadata": {
    "hidden": true
   },
   "outputs": [
    {
     "data": {
      "text/plain": [
       "array([[ 2,  4,  6,  8],\n",
       "       [10, 12, 14, 16],\n",
       "       [18, 20, 22, 24],\n",
       "       [26, 28, 30, 32],\n",
       "       [34, 36, 38, 40]])"
      ]
     },
     "execution_count": 44,
     "metadata": {},
     "output_type": "execute_result"
    }
   ],
   "source": [
    "a*2"
   ]
  },
  {
   "cell_type": "code",
   "execution_count": 45,
   "id": "626530e5",
   "metadata": {
    "hidden": true
   },
   "outputs": [
    {
     "data": {
      "text/plain": [
       "array([[ 0,  1,  1,  2],\n",
       "       [ 2,  3,  3,  4],\n",
       "       [ 4,  5,  5,  6],\n",
       "       [ 6,  7,  7,  8],\n",
       "       [ 8,  9,  9, 10]], dtype=int32)"
      ]
     },
     "execution_count": 45,
     "metadata": {},
     "output_type": "execute_result"
    }
   ],
   "source": [
    "a//2"
   ]
  },
  {
   "cell_type": "code",
   "execution_count": 47,
   "id": "d99d6a87",
   "metadata": {
    "hidden": true
   },
   "outputs": [
    {
     "data": {
      "text/plain": [
       "array([[0.33333333, 0.66666667, 1.        , 1.33333333],\n",
       "       [1.66666667, 2.        , 2.33333333, 2.66666667],\n",
       "       [3.        , 3.33333333, 3.66666667, 4.        ],\n",
       "       [4.33333333, 4.66666667, 5.        , 5.33333333],\n",
       "       [5.66666667, 6.        , 6.33333333, 6.66666667]])"
      ]
     },
     "execution_count": 47,
     "metadata": {},
     "output_type": "execute_result"
    }
   ],
   "source": [
    "a/3"
   ]
  },
  {
   "cell_type": "code",
   "execution_count": 48,
   "id": "24aff6ad",
   "metadata": {
    "hidden": true
   },
   "outputs": [
    {
     "data": {
      "text/plain": [
       "array([[-3, -2, -1,  0],\n",
       "       [ 1,  2,  3,  4],\n",
       "       [ 5,  6,  7,  8],\n",
       "       [ 9, 10, 11, 12],\n",
       "       [13, 14, 15, 16]])"
      ]
     },
     "execution_count": 48,
     "metadata": {},
     "output_type": "execute_result"
    }
   ],
   "source": [
    "a-4"
   ]
  },
  {
   "cell_type": "code",
   "execution_count": 49,
   "id": "1a50c373",
   "metadata": {
    "hidden": true
   },
   "outputs": [
    {
     "data": {
      "text/plain": [
       "array([[1, 2, 3, 4],\n",
       "       [0, 1, 2, 3],\n",
       "       [4, 0, 1, 2],\n",
       "       [3, 4, 0, 1],\n",
       "       [2, 3, 4, 0]], dtype=int32)"
      ]
     },
     "execution_count": 49,
     "metadata": {},
     "output_type": "execute_result"
    }
   ],
   "source": [
    "a%5"
   ]
  },
  {
   "cell_type": "code",
   "execution_count": null,
   "id": "bf839166",
   "metadata": {
    "hidden": true
   },
   "outputs": [],
   "source": []
  },
  {
   "cell_type": "code",
   "execution_count": null,
   "id": "17a5a7ee",
   "metadata": {
    "hidden": true
   },
   "outputs": [],
   "source": []
  },
  {
   "cell_type": "code",
   "execution_count": null,
   "id": "b81be80f",
   "metadata": {
    "hidden": true
   },
   "outputs": [],
   "source": []
  },
  {
   "cell_type": "code",
   "execution_count": null,
   "id": "5a070280",
   "metadata": {
    "hidden": true
   },
   "outputs": [],
   "source": []
  },
  {
   "cell_type": "markdown",
   "id": "de2c6d21",
   "metadata": {
    "heading_collapsed": true
   },
   "source": [
    "### filtering arrays"
   ]
  },
  {
   "cell_type": "code",
   "execution_count": 61,
   "id": "f738618b",
   "metadata": {
    "hidden": true
   },
   "outputs": [
    {
     "name": "stdout",
     "output_type": "stream",
     "text": [
      "[[ 8  9]\n",
      " [10 11]\n",
      " [12 13]\n",
      " [14 15]]\n"
     ]
    }
   ],
   "source": [
    "print(ar4)"
   ]
  },
  {
   "cell_type": "code",
   "execution_count": 62,
   "id": "dca3026a",
   "metadata": {
    "hidden": true
   },
   "outputs": [
    {
     "data": {
      "text/plain": [
       "array([11, 12, 13, 14, 15])"
      ]
     },
     "execution_count": 62,
     "metadata": {},
     "output_type": "execute_result"
    }
   ],
   "source": [
    "ar4[ar4>10]"
   ]
  },
  {
   "cell_type": "code",
   "execution_count": 79,
   "id": "0913a5e6",
   "metadata": {
    "hidden": true
   },
   "outputs": [
    {
     "data": {
      "text/plain": [
       "array([ 1,  2,  3,  4,  5,  6,  7,  8,  9, 10, 11, 12, 13, 14, 15, 16, 17,\n",
       "       18, 19, 20, 21, 22, 23, 24, 25, 26, 27, 28, 29, 30, 31, 32, 33, 34,\n",
       "       35, 36, 37, 38, 39, 40, 41, 42, 43, 44, 45, 46, 47, 48, 49, 50, 51,\n",
       "       52, 53, 54, 55, 56, 57, 58, 59, 60, 61, 62, 63, 64, 65, 66, 67, 68,\n",
       "       69, 70, 71, 72, 73, 74, 75, 76, 77, 78, 79, 80, 81, 82, 83, 84, 85,\n",
       "       86, 87, 88, 89, 90, 91, 92, 93, 94, 95, 96, 97, 98, 99])"
      ]
     },
     "execution_count": 79,
     "metadata": {},
     "output_type": "execute_result"
    }
   ],
   "source": [
    "a=np.array(range(1,100))\n",
    "a"
   ]
  },
  {
   "cell_type": "code",
   "execution_count": 64,
   "id": "72a2da51",
   "metadata": {
    "hidden": true
   },
   "outputs": [
    {
     "data": {
      "text/plain": [
       "array([ 2,  4,  6,  8, 10, 12, 14, 16, 18, 20, 22, 24, 26, 28, 30, 32, 34,\n",
       "       36, 38, 40, 42, 44, 46, 48, 50, 52, 54, 56, 58, 60, 62, 64, 66, 68,\n",
       "       70, 72, 74, 76, 78, 80, 82, 84, 86, 88, 90, 92, 94, 96, 98])"
      ]
     },
     "execution_count": 64,
     "metadata": {},
     "output_type": "execute_result"
    }
   ],
   "source": [
    "a[a%2==0]"
   ]
  },
  {
   "cell_type": "code",
   "execution_count": 65,
   "id": "c6e8813a",
   "metadata": {
    "hidden": true
   },
   "outputs": [
    {
     "data": {
      "text/plain": [
       "array([ 6, 12, 18, 24, 30, 36, 42, 48, 54, 60, 66, 72, 78, 84, 90, 96])"
      ]
     },
     "execution_count": 65,
     "metadata": {},
     "output_type": "execute_result"
    }
   ],
   "source": [
    "a[a%6==0]"
   ]
  },
  {
   "cell_type": "markdown",
   "id": "d16caefc",
   "metadata": {},
   "source": [
    "### where() condition"
   ]
  },
  {
   "cell_type": "code",
   "execution_count": 74,
   "id": "a93a03a1",
   "metadata": {},
   "outputs": [
    {
     "data": {
      "text/plain": [
       "array(['n', 'n', 'n', 'n', 'y', 'n', 'n', 'n', 'n', 'y', 'n', 'n', 'n',\n",
       "       'n', 'y', 'n', 'n', 'n', 'n', 'y', 'n', 'n', 'n', 'n', 'y', 'n',\n",
       "       'n', 'n', 'n', 'y', 'n', 'n', 'n', 'n', 'y', 'n', 'n', 'n', 'n',\n",
       "       'y', 'n', 'n', 'n', 'n', 'y', 'n', 'n', 'n', 'n', 'y', 'n', 'n',\n",
       "       'n', 'n', 'y', 'n', 'n', 'n', 'n', 'y', 'n', 'n', 'n', 'n', 'y',\n",
       "       'n', 'n', 'n', 'n', 'y', 'n', 'n', 'n', 'n', 'y', 'n', 'n', 'n',\n",
       "       'n', 'y', 'n', 'n', 'n', 'n', 'y', 'n', 'n', 'n', 'n', 'y', 'n',\n",
       "       'n', 'n', 'n', 'y', 'n', 'n', 'n', 'n'], dtype='<U1')"
      ]
     },
     "execution_count": 74,
     "metadata": {},
     "output_type": "execute_result"
    }
   ],
   "source": [
    "np.where(a%5==0,\"y\",\"n\")"
   ]
  },
  {
   "cell_type": "code",
   "execution_count": 82,
   "id": "9b3e40b6",
   "metadata": {},
   "outputs": [
    {
     "data": {
      "text/plain": [
       "array([ 1,  2,  3,  4,  5,  6,  7,  8,  9, 10, 11, 12, 13, 14, 15, 16, 17,\n",
       "       18, 19, 20, 21, 22, 23, 24, 25, 26, 27, 28, 29, 30, 31, 32, 33, 34,\n",
       "       35, 36, 37, 38, 39, 40, 41, 42, 43, 44, 45, 46, 47, 48, 49])"
      ]
     },
     "execution_count": 82,
     "metadata": {},
     "output_type": "execute_result"
    }
   ],
   "source": [
    "l=np.array(range(1,50))\n",
    "l"
   ]
  },
  {
   "cell_type": "code",
   "execution_count": 89,
   "id": "e03a0fcd",
   "metadata": {},
   "outputs": [
    {
     "name": "stdout",
     "output_type": "stream",
     "text": [
      "(array([0, 1, 2, 3], dtype=int64),)\n",
      "(array([ 0,  1,  2,  3,  4,  5,  6,  7,  8,  9, 10, 11, 12, 13, 14, 15, 16,\n",
      "       17, 18], dtype=int64),)\n"
     ]
    }
   ],
   "source": [
    "print(np.where(l<5))\n",
    "print(np.where(l<20))"
   ]
  },
  {
   "cell_type": "markdown",
   "id": "4dad402e",
   "metadata": {},
   "source": [
    "### squeez and expand"
   ]
  },
  {
   "cell_type": "markdown",
   "id": "bfd8bef6",
   "metadata": {},
   "source": [
    "#### isin()"
   ]
  },
  {
   "cell_type": "code",
   "execution_count": 92,
   "id": "864521fc",
   "metadata": {},
   "outputs": [
    {
     "data": {
      "text/plain": [
       "array([1, 2, 3, 4, 5, 6, 7, 8, 9])"
      ]
     },
     "execution_count": 92,
     "metadata": {},
     "output_type": "execute_result"
    }
   ],
   "source": [
    "a=np.array(range(1,10))\n",
    "a"
   ]
  },
  {
   "cell_type": "code",
   "execution_count": 91,
   "id": "d0de3861",
   "metadata": {},
   "outputs": [],
   "source": [
    "b=[2,3,4]"
   ]
  },
  {
   "cell_type": "code",
   "execution_count": 93,
   "id": "27e0bb35",
   "metadata": {},
   "outputs": [
    {
     "data": {
      "text/plain": [
       "array([False,  True,  True,  True, False, False, False, False, False])"
      ]
     },
     "execution_count": 93,
     "metadata": {},
     "output_type": "execute_result"
    }
   ],
   "source": [
    "np.isin(a,b)"
   ]
  },
  {
   "cell_type": "code",
   "execution_count": null,
   "id": "8932ef44",
   "metadata": {},
   "outputs": [],
   "source": []
  }
 ],
 "metadata": {
  "kernelspec": {
   "display_name": "Python 3 (ipykernel)",
   "language": "python",
   "name": "python3"
  },
  "language_info": {
   "codemirror_mode": {
    "name": "ipython",
    "version": 3
   },
   "file_extension": ".py",
   "mimetype": "text/x-python",
   "name": "python",
   "nbconvert_exporter": "python",
   "pygments_lexer": "ipython3",
   "version": "3.9.13"
  }
 },
 "nbformat": 4,
 "nbformat_minor": 5
}
