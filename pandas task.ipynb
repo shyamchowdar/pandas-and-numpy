{
 "cells": [
  {
   "cell_type": "code",
   "execution_count": null,
   "id": "b781bf86",
   "metadata": {},
   "outputs": [],
   "source": [
    "##task1:create a panda series with list,tuple and dict with atleast ten values\n",
    "## task2 : create pandas dataframe with column names cricketer,role,runs,wickets must have 15 entries and\n",
    "##do attributes and statistical analysis"
   ]
  },
  {
   "cell_type": "code",
   "execution_count": 7,
   "id": "844ec156",
   "metadata": {},
   "outputs": [
    {
     "data": {
      "text/plain": [
       "0    123\n",
       "1    456\n",
       "2    789\n",
       "3    112\n",
       "4    113\n",
       "5    445\n",
       "6    667\n",
       "7    443\n",
       "8    413\n",
       "9    116\n",
       "dtype: int64"
      ]
     },
     "execution_count": 7,
     "metadata": {},
     "output_type": "execute_result"
    }
   ],
   "source": [
    "## task 1:\n",
    "import pandas as pd\n",
    "list1=[123,456,789,112,113,445,667,443,413,116]\n",
    "lst=pd.Series(list1)\n",
    "lst"
   ]
  },
  {
   "cell_type": "code",
   "execution_count": 8,
   "id": "be7014ba",
   "metadata": {},
   "outputs": [
    {
     "data": {
      "text/plain": [
       "10"
      ]
     },
     "execution_count": 8,
     "metadata": {},
     "output_type": "execute_result"
    }
   ],
   "source": [
    "lst.size"
   ]
  },
  {
   "cell_type": "code",
   "execution_count": 9,
   "id": "24e51033",
   "metadata": {},
   "outputs": [
    {
     "data": {
      "text/plain": [
       "(10,)"
      ]
     },
     "execution_count": 9,
     "metadata": {},
     "output_type": "execute_result"
    }
   ],
   "source": [
    "lst.shape"
   ]
  },
  {
   "cell_type": "code",
   "execution_count": 10,
   "id": "9918c42a",
   "metadata": {},
   "outputs": [
    {
     "data": {
      "text/plain": [
       "1"
      ]
     },
     "execution_count": 10,
     "metadata": {},
     "output_type": "execute_result"
    }
   ],
   "source": [
    "lst.ndim"
   ]
  },
  {
   "cell_type": "code",
   "execution_count": 11,
   "id": "7da9f227",
   "metadata": {},
   "outputs": [
    {
     "data": {
      "text/plain": [
       "dtype('int64')"
      ]
     },
     "execution_count": 11,
     "metadata": {},
     "output_type": "execute_result"
    }
   ],
   "source": [
    "lst.dtypes"
   ]
  },
  {
   "cell_type": "code",
   "execution_count": 12,
   "id": "4be3de39",
   "metadata": {},
   "outputs": [
    {
     "data": {
      "text/plain": [
       "80"
      ]
     },
     "execution_count": 12,
     "metadata": {},
     "output_type": "execute_result"
    }
   ],
   "source": [
    "lst.nbytes"
   ]
  },
  {
   "cell_type": "code",
   "execution_count": 20,
   "id": "fa662bce",
   "metadata": {},
   "outputs": [
    {
     "data": {
      "text/plain": [
       "pandas.core.series.Series"
      ]
     },
     "execution_count": 20,
     "metadata": {},
     "output_type": "execute_result"
    }
   ],
   "source": [
    "type(lst)"
   ]
  },
  {
   "cell_type": "code",
   "execution_count": 13,
   "id": "55110163",
   "metadata": {},
   "outputs": [
    {
     "data": {
      "text/plain": [
       "0    1000\n",
       "1    2000\n",
       "2    3000\n",
       "3    4000\n",
       "4    5000\n",
       "5    6000\n",
       "6    7000\n",
       "7    8000\n",
       "8    9000\n",
       "9    1100\n",
       "dtype: int64"
      ]
     },
     "execution_count": 13,
     "metadata": {},
     "output_type": "execute_result"
    }
   ],
   "source": [
    "tpl1=(1000,2000,3000,4000,5000,6000,7000,8000,9000,1100)\n",
    "tpl=pd.Series(tpl1)\n",
    "tpl"
   ]
  },
  {
   "cell_type": "code",
   "execution_count": 14,
   "id": "e2ec9dae",
   "metadata": {},
   "outputs": [
    {
     "data": {
      "text/plain": [
       "10"
      ]
     },
     "execution_count": 14,
     "metadata": {},
     "output_type": "execute_result"
    }
   ],
   "source": [
    "tpl.size"
   ]
  },
  {
   "cell_type": "code",
   "execution_count": 15,
   "id": "7eb9d8b2",
   "metadata": {},
   "outputs": [
    {
     "data": {
      "text/plain": [
       "(10,)"
      ]
     },
     "execution_count": 15,
     "metadata": {},
     "output_type": "execute_result"
    }
   ],
   "source": [
    "tpl.shape"
   ]
  },
  {
   "cell_type": "code",
   "execution_count": 16,
   "id": "07ff8bbd",
   "metadata": {},
   "outputs": [
    {
     "data": {
      "text/plain": [
       "1"
      ]
     },
     "execution_count": 16,
     "metadata": {},
     "output_type": "execute_result"
    }
   ],
   "source": [
    "tpl.ndim"
   ]
  },
  {
   "cell_type": "code",
   "execution_count": 17,
   "id": "78a5d656",
   "metadata": {},
   "outputs": [
    {
     "data": {
      "text/plain": [
       "dtype('int64')"
      ]
     },
     "execution_count": 17,
     "metadata": {},
     "output_type": "execute_result"
    }
   ],
   "source": [
    "tpl.dtypes"
   ]
  },
  {
   "cell_type": "code",
   "execution_count": 18,
   "id": "cd64add8",
   "metadata": {},
   "outputs": [
    {
     "data": {
      "text/plain": [
       "80"
      ]
     },
     "execution_count": 18,
     "metadata": {},
     "output_type": "execute_result"
    }
   ],
   "source": [
    "tpl.nbytes"
   ]
  },
  {
   "cell_type": "code",
   "execution_count": 19,
   "id": "4c2a42bc",
   "metadata": {},
   "outputs": [
    {
     "data": {
      "text/plain": [
       "pandas.core.series.Series"
      ]
     },
     "execution_count": 19,
     "metadata": {},
     "output_type": "execute_result"
    }
   ],
   "source": [
    "type(tpl)"
   ]
  },
  {
   "cell_type": "code",
   "execution_count": 21,
   "id": "9bcd5b82",
   "metadata": {},
   "outputs": [
    {
     "data": {
      "text/plain": [
       "shyam     50\n",
       "ram       54\n",
       "bheem     60\n",
       "teja      35\n",
       "pooja     76\n",
       "mahesh    65\n",
       "rakesh    45\n",
       "uday      66\n",
       "ravi      54\n",
       "vishnu    60\n",
       "shiva     90\n",
       "dtype: int64"
      ]
     },
     "execution_count": 21,
     "metadata": {},
     "output_type": "execute_result"
    }
   ],
   "source": [
    "dict1={'shyam':50,'ram':54,'bheem':60,'teja':35,'pooja':76,'mahesh':65,'rakesh':45,'uday':66,'ravi':54,'vishnu':60,'shiva':90}\n",
    "dic=pd.Series(dict1)\n",
    "dic"
   ]
  },
  {
   "cell_type": "code",
   "execution_count": 22,
   "id": "ea2652f8",
   "metadata": {},
   "outputs": [
    {
     "data": {
      "text/plain": [
       "(11,)"
      ]
     },
     "execution_count": 22,
     "metadata": {},
     "output_type": "execute_result"
    }
   ],
   "source": [
    "dic.shape"
   ]
  },
  {
   "cell_type": "code",
   "execution_count": 23,
   "id": "51a94cf8",
   "metadata": {},
   "outputs": [
    {
     "data": {
      "text/plain": [
       "11"
      ]
     },
     "execution_count": 23,
     "metadata": {},
     "output_type": "execute_result"
    }
   ],
   "source": [
    "dic.size"
   ]
  },
  {
   "cell_type": "code",
   "execution_count": 24,
   "id": "eb147939",
   "metadata": {},
   "outputs": [
    {
     "data": {
      "text/plain": [
       "1"
      ]
     },
     "execution_count": 24,
     "metadata": {},
     "output_type": "execute_result"
    }
   ],
   "source": [
    "dic.ndim"
   ]
  },
  {
   "cell_type": "code",
   "execution_count": 25,
   "id": "40fa9439",
   "metadata": {},
   "outputs": [
    {
     "data": {
      "text/plain": [
       "88"
      ]
     },
     "execution_count": 25,
     "metadata": {},
     "output_type": "execute_result"
    }
   ],
   "source": [
    "dic.nbytes"
   ]
  },
  {
   "cell_type": "code",
   "execution_count": 26,
   "id": "7e38273c",
   "metadata": {},
   "outputs": [
    {
     "data": {
      "text/plain": [
       "dtype('int64')"
      ]
     },
     "execution_count": 26,
     "metadata": {},
     "output_type": "execute_result"
    }
   ],
   "source": [
    "dic.dtypes"
   ]
  },
  {
   "cell_type": "code",
   "execution_count": 27,
   "id": "12960084",
   "metadata": {},
   "outputs": [
    {
     "data": {
      "text/plain": [
       "pandas.core.series.Series"
      ]
     },
     "execution_count": 27,
     "metadata": {},
     "output_type": "execute_result"
    }
   ],
   "source": [
    "type(dic)"
   ]
  },
  {
   "cell_type": "code",
   "execution_count": 28,
   "id": "34a314c8",
   "metadata": {},
   "outputs": [],
   "source": [
    "# task2\n",
    "# create pandas dataframe with column names cricketer,role,runs,wickets must have 15 entries and\n",
    "#do attributes and statistical analysis"
   ]
  },
  {
   "cell_type": "code",
   "execution_count": 35,
   "id": "08057bb7",
   "metadata": {},
   "outputs": [
    {
     "data": {
      "text/html": [
       "<div>\n",
       "<style scoped>\n",
       "    .dataframe tbody tr th:only-of-type {\n",
       "        vertical-align: middle;\n",
       "    }\n",
       "\n",
       "    .dataframe tbody tr th {\n",
       "        vertical-align: top;\n",
       "    }\n",
       "\n",
       "    .dataframe thead th {\n",
       "        text-align: right;\n",
       "    }\n",
       "</style>\n",
       "<table border=\"1\" class=\"dataframe\">\n",
       "  <thead>\n",
       "    <tr style=\"text-align: right;\">\n",
       "      <th></th>\n",
       "      <th>cricketername</th>\n",
       "      <th>role</th>\n",
       "      <th>runs</th>\n",
       "      <th>wickets</th>\n",
       "    </tr>\n",
       "  </thead>\n",
       "  <tbody>\n",
       "    <tr>\n",
       "      <th>0</th>\n",
       "      <td>viratkohli</td>\n",
       "      <td>batsmen</td>\n",
       "      <td>25322</td>\n",
       "      <td>12</td>\n",
       "    </tr>\n",
       "    <tr>\n",
       "      <th>1</th>\n",
       "      <td>msdhoni</td>\n",
       "      <td>batsmen</td>\n",
       "      <td>17266</td>\n",
       "      <td>5</td>\n",
       "    </tr>\n",
       "    <tr>\n",
       "      <th>2</th>\n",
       "      <td>rohitsharma</td>\n",
       "      <td>batsmen</td>\n",
       "      <td>17057</td>\n",
       "      <td>0</td>\n",
       "    </tr>\n",
       "    <tr>\n",
       "      <th>3</th>\n",
       "      <td>yuvaraj singh</td>\n",
       "      <td>allrounder</td>\n",
       "      <td>11798</td>\n",
       "      <td>184</td>\n",
       "    </tr>\n",
       "    <tr>\n",
       "      <th>4</th>\n",
       "      <td>ravindra jadeja</td>\n",
       "      <td>allrounder</td>\n",
       "      <td>20684</td>\n",
       "      <td>502</td>\n",
       "    </tr>\n",
       "    <tr>\n",
       "      <th>5</th>\n",
       "      <td>sachin tendulkar</td>\n",
       "      <td>batsmen</td>\n",
       "      <td>34357</td>\n",
       "      <td>15</td>\n",
       "    </tr>\n",
       "    <tr>\n",
       "      <th>6</th>\n",
       "      <td>shikhar dhawan</td>\n",
       "      <td>batsmen</td>\n",
       "      <td>10867</td>\n",
       "      <td>0</td>\n",
       "    </tr>\n",
       "    <tr>\n",
       "      <th>7</th>\n",
       "      <td>gambhir</td>\n",
       "      <td>batsmen</td>\n",
       "      <td>10324</td>\n",
       "      <td>0</td>\n",
       "    </tr>\n",
       "    <tr>\n",
       "      <th>8</th>\n",
       "      <td>vvs laxman</td>\n",
       "      <td>batsmen</td>\n",
       "      <td>111156</td>\n",
       "      <td>0</td>\n",
       "    </tr>\n",
       "    <tr>\n",
       "      <th>9</th>\n",
       "      <td>dravid</td>\n",
       "      <td>batsmen</td>\n",
       "      <td>24208</td>\n",
       "      <td>0</td>\n",
       "    </tr>\n",
       "    <tr>\n",
       "      <th>10</th>\n",
       "      <td>v.sehwag</td>\n",
       "      <td>batsmen</td>\n",
       "      <td>17253</td>\n",
       "      <td>0</td>\n",
       "    </tr>\n",
       "    <tr>\n",
       "      <th>11</th>\n",
       "      <td>s ganguly</td>\n",
       "      <td>batsmen</td>\n",
       "      <td>18575</td>\n",
       "      <td>0</td>\n",
       "    </tr>\n",
       "    <tr>\n",
       "      <th>12</th>\n",
       "      <td>sunil gavaskar</td>\n",
       "      <td>batsmen</td>\n",
       "      <td>13214</td>\n",
       "      <td>0</td>\n",
       "    </tr>\n",
       "    <tr>\n",
       "      <th>13</th>\n",
       "      <td>m azharuddin</td>\n",
       "      <td>batsmen</td>\n",
       "      <td>15593</td>\n",
       "      <td>0</td>\n",
       "    </tr>\n",
       "    <tr>\n",
       "      <th>14</th>\n",
       "      <td>rishabh pant</td>\n",
       "      <td>batsmen</td>\n",
       "      <td>6291</td>\n",
       "      <td>0</td>\n",
       "    </tr>\n",
       "  </tbody>\n",
       "</table>\n",
       "</div>"
      ],
      "text/plain": [
       "       cricketername        role    runs  wickets\n",
       "0         viratkohli     batsmen   25322       12\n",
       "1            msdhoni     batsmen   17266        5\n",
       "2        rohitsharma     batsmen   17057        0\n",
       "3      yuvaraj singh  allrounder   11798      184\n",
       "4    ravindra jadeja  allrounder   20684      502\n",
       "5   sachin tendulkar     batsmen   34357       15\n",
       "6     shikhar dhawan     batsmen   10867        0\n",
       "7            gambhir     batsmen   10324        0\n",
       "8         vvs laxman     batsmen  111156        0\n",
       "9             dravid     batsmen   24208        0\n",
       "10          v.sehwag     batsmen   17253        0\n",
       "11         s ganguly     batsmen   18575        0\n",
       "12    sunil gavaskar     batsmen   13214        0\n",
       "13      m azharuddin     batsmen   15593        0\n",
       "14      rishabh pant     batsmen    6291        0"
      ]
     },
     "execution_count": 35,
     "metadata": {},
     "output_type": "execute_result"
    }
   ],
   "source": [
    "players=[\n",
    "        [\"viratkohli\",\"batsmen\",25322,12],\n",
    "        [\"msdhoni\",\"batsmen\",17266,5],\n",
    "        [\"rohitsharma\",\"batsmen\",17057,0],\n",
    "        [\"yuvaraj singh\",\"allrounder\",11798,184],\n",
    "        [\"ravindra jadeja\",\"allrounder\",20684,502],\n",
    "        [\"sachin tendulkar\",\"batsmen\",34357,15],\n",
    "        [\"shikhar dhawan\",\"batsmen\",10867,0],\n",
    "        [\"gambhir\",\"batsmen\",10324,0],\n",
    "        [\"vvs laxman\",\"batsmen\",111156,0],\n",
    "        [\"dravid\",\"batsmen\",24208,0],\n",
    "        [\"v.sehwag\",\"batsmen\",17253,0],\n",
    "        [\"s ganguly\",\"batsmen\",18575,0],\n",
    "        [\"sunil gavaskar\",\"batsmen\",13214,0],\n",
    "        [\"m azharuddin\",\"batsmen\",15593,0],\n",
    "        [\"rishabh pant\",\"batsmen\",6291,0]\n",
    "]\n",
    "details=pd.DataFrame(players,columns=[\"cricketername\",\"role\",\"runs\",\"wickets\"])\n",
    "details"
   ]
  },
  {
   "cell_type": "code",
   "execution_count": 36,
   "id": "fe146ff0",
   "metadata": {},
   "outputs": [
    {
     "data": {
      "text/plain": [
       "(15, 4)"
      ]
     },
     "execution_count": 36,
     "metadata": {},
     "output_type": "execute_result"
    }
   ],
   "source": [
    "details.shape"
   ]
  },
  {
   "cell_type": "code",
   "execution_count": 37,
   "id": "5385b093",
   "metadata": {},
   "outputs": [
    {
     "data": {
      "text/plain": [
       "60"
      ]
     },
     "execution_count": 37,
     "metadata": {},
     "output_type": "execute_result"
    }
   ],
   "source": [
    "details.size"
   ]
  },
  {
   "cell_type": "code",
   "execution_count": 38,
   "id": "39c802fe",
   "metadata": {},
   "outputs": [
    {
     "data": {
      "text/plain": [
       "2"
      ]
     },
     "execution_count": 38,
     "metadata": {},
     "output_type": "execute_result"
    }
   ],
   "source": [
    "details.ndim"
   ]
  },
  {
   "cell_type": "code",
   "execution_count": 39,
   "id": "f897ef19",
   "metadata": {},
   "outputs": [
    {
     "data": {
      "text/plain": [
       "cricketername    object\n",
       "role             object\n",
       "runs              int64\n",
       "wickets           int64\n",
       "dtype: object"
      ]
     },
     "execution_count": 39,
     "metadata": {},
     "output_type": "execute_result"
    }
   ],
   "source": [
    "details.dtypes"
   ]
  },
  {
   "cell_type": "code",
   "execution_count": 40,
   "id": "96c5482e",
   "metadata": {},
   "outputs": [
    {
     "data": {
      "text/plain": [
       "pandas.core.frame.DataFrame"
      ]
     },
     "execution_count": 40,
     "metadata": {},
     "output_type": "execute_result"
    }
   ],
   "source": [
    "type(details)"
   ]
  },
  {
   "cell_type": "code",
   "execution_count": 43,
   "id": "1c27950a",
   "metadata": {},
   "outputs": [
    {
     "data": {
      "text/html": [
       "<div>\n",
       "<style scoped>\n",
       "    .dataframe tbody tr th:only-of-type {\n",
       "        vertical-align: middle;\n",
       "    }\n",
       "\n",
       "    .dataframe tbody tr th {\n",
       "        vertical-align: top;\n",
       "    }\n",
       "\n",
       "    .dataframe thead th {\n",
       "        text-align: right;\n",
       "    }\n",
       "</style>\n",
       "<table border=\"1\" class=\"dataframe\">\n",
       "  <thead>\n",
       "    <tr style=\"text-align: right;\">\n",
       "      <th></th>\n",
       "      <th>cricketername</th>\n",
       "      <th>role</th>\n",
       "      <th>runs</th>\n",
       "      <th>wickets</th>\n",
       "    </tr>\n",
       "  </thead>\n",
       "  <tbody>\n",
       "    <tr>\n",
       "      <th>0</th>\n",
       "      <td>viratkohli</td>\n",
       "      <td>batsmen</td>\n",
       "      <td>25322</td>\n",
       "      <td>12</td>\n",
       "    </tr>\n",
       "    <tr>\n",
       "      <th>1</th>\n",
       "      <td>msdhoni</td>\n",
       "      <td>batsmen</td>\n",
       "      <td>17266</td>\n",
       "      <td>5</td>\n",
       "    </tr>\n",
       "    <tr>\n",
       "      <th>2</th>\n",
       "      <td>rohitsharma</td>\n",
       "      <td>batsmen</td>\n",
       "      <td>17057</td>\n",
       "      <td>0</td>\n",
       "    </tr>\n",
       "    <tr>\n",
       "      <th>3</th>\n",
       "      <td>yuvaraj singh</td>\n",
       "      <td>allrounder</td>\n",
       "      <td>11798</td>\n",
       "      <td>184</td>\n",
       "    </tr>\n",
       "    <tr>\n",
       "      <th>4</th>\n",
       "      <td>ravindra jadeja</td>\n",
       "      <td>allrounder</td>\n",
       "      <td>20684</td>\n",
       "      <td>502</td>\n",
       "    </tr>\n",
       "  </tbody>\n",
       "</table>\n",
       "</div>"
      ],
      "text/plain": [
       "     cricketername        role   runs  wickets\n",
       "0       viratkohli     batsmen  25322       12\n",
       "1          msdhoni     batsmen  17266        5\n",
       "2      rohitsharma     batsmen  17057        0\n",
       "3    yuvaraj singh  allrounder  11798      184\n",
       "4  ravindra jadeja  allrounder  20684      502"
      ]
     },
     "execution_count": 43,
     "metadata": {},
     "output_type": "execute_result"
    }
   ],
   "source": [
    "details.head()"
   ]
  },
  {
   "cell_type": "code",
   "execution_count": 44,
   "id": "c18f41f9",
   "metadata": {},
   "outputs": [
    {
     "data": {
      "text/html": [
       "<div>\n",
       "<style scoped>\n",
       "    .dataframe tbody tr th:only-of-type {\n",
       "        vertical-align: middle;\n",
       "    }\n",
       "\n",
       "    .dataframe tbody tr th {\n",
       "        vertical-align: top;\n",
       "    }\n",
       "\n",
       "    .dataframe thead th {\n",
       "        text-align: right;\n",
       "    }\n",
       "</style>\n",
       "<table border=\"1\" class=\"dataframe\">\n",
       "  <thead>\n",
       "    <tr style=\"text-align: right;\">\n",
       "      <th></th>\n",
       "      <th>cricketername</th>\n",
       "      <th>role</th>\n",
       "      <th>runs</th>\n",
       "      <th>wickets</th>\n",
       "    </tr>\n",
       "  </thead>\n",
       "  <tbody>\n",
       "    <tr>\n",
       "      <th>10</th>\n",
       "      <td>v.sehwag</td>\n",
       "      <td>batsmen</td>\n",
       "      <td>17253</td>\n",
       "      <td>0</td>\n",
       "    </tr>\n",
       "    <tr>\n",
       "      <th>11</th>\n",
       "      <td>s ganguly</td>\n",
       "      <td>batsmen</td>\n",
       "      <td>18575</td>\n",
       "      <td>0</td>\n",
       "    </tr>\n",
       "    <tr>\n",
       "      <th>12</th>\n",
       "      <td>sunil gavaskar</td>\n",
       "      <td>batsmen</td>\n",
       "      <td>13214</td>\n",
       "      <td>0</td>\n",
       "    </tr>\n",
       "    <tr>\n",
       "      <th>13</th>\n",
       "      <td>m azharuddin</td>\n",
       "      <td>batsmen</td>\n",
       "      <td>15593</td>\n",
       "      <td>0</td>\n",
       "    </tr>\n",
       "    <tr>\n",
       "      <th>14</th>\n",
       "      <td>rishabh pant</td>\n",
       "      <td>batsmen</td>\n",
       "      <td>6291</td>\n",
       "      <td>0</td>\n",
       "    </tr>\n",
       "  </tbody>\n",
       "</table>\n",
       "</div>"
      ],
      "text/plain": [
       "     cricketername     role   runs  wickets\n",
       "10        v.sehwag  batsmen  17253        0\n",
       "11       s ganguly  batsmen  18575        0\n",
       "12  sunil gavaskar  batsmen  13214        0\n",
       "13    m azharuddin  batsmen  15593        0\n",
       "14    rishabh pant  batsmen   6291        0"
      ]
     },
     "execution_count": 44,
     "metadata": {},
     "output_type": "execute_result"
    }
   ],
   "source": [
    "details.tail()"
   ]
  },
  {
   "cell_type": "code",
   "execution_count": 45,
   "id": "a74c531d",
   "metadata": {},
   "outputs": [
    {
     "data": {
      "text/plain": [
       "Index            128\n",
       "cricketername    120\n",
       "role             120\n",
       "runs             120\n",
       "wickets          120\n",
       "dtype: int64"
      ]
     },
     "execution_count": 45,
     "metadata": {},
     "output_type": "execute_result"
    }
   ],
   "source": [
    "details.memory_usage()"
   ]
  },
  {
   "cell_type": "code",
   "execution_count": 46,
   "id": "06bfe2b0",
   "metadata": {},
   "outputs": [
    {
     "name": "stdout",
     "output_type": "stream",
     "text": [
      "<class 'pandas.core.frame.DataFrame'>\n",
      "RangeIndex: 15 entries, 0 to 14\n",
      "Data columns (total 4 columns):\n",
      " #   Column         Non-Null Count  Dtype \n",
      "---  ------         --------------  ----- \n",
      " 0   cricketername  15 non-null     object\n",
      " 1   role           15 non-null     object\n",
      " 2   runs           15 non-null     int64 \n",
      " 3   wickets        15 non-null     int64 \n",
      "dtypes: int64(2), object(2)\n",
      "memory usage: 608.0+ bytes\n"
     ]
    }
   ],
   "source": [
    "details.info()"
   ]
  },
  {
   "cell_type": "code",
   "execution_count": 49,
   "id": "1fa161f0",
   "metadata": {},
   "outputs": [
    {
     "data": {
      "text/html": [
       "<div>\n",
       "<style scoped>\n",
       "    .dataframe tbody tr th:only-of-type {\n",
       "        vertical-align: middle;\n",
       "    }\n",
       "\n",
       "    .dataframe tbody tr th {\n",
       "        vertical-align: top;\n",
       "    }\n",
       "\n",
       "    .dataframe thead th {\n",
       "        text-align: right;\n",
       "    }\n",
       "</style>\n",
       "<table border=\"1\" class=\"dataframe\">\n",
       "  <thead>\n",
       "    <tr style=\"text-align: right;\">\n",
       "      <th></th>\n",
       "      <th>runs</th>\n",
       "      <th>wickets</th>\n",
       "    </tr>\n",
       "  </thead>\n",
       "  <tbody>\n",
       "    <tr>\n",
       "      <th>count</th>\n",
       "      <td>15.000000</td>\n",
       "      <td>15.000000</td>\n",
       "    </tr>\n",
       "    <tr>\n",
       "      <th>mean</th>\n",
       "      <td>23597.666667</td>\n",
       "      <td>47.866667</td>\n",
       "    </tr>\n",
       "    <tr>\n",
       "      <th>std</th>\n",
       "      <td>25201.078125</td>\n",
       "      <td>134.133658</td>\n",
       "    </tr>\n",
       "    <tr>\n",
       "      <th>min</th>\n",
       "      <td>6291.000000</td>\n",
       "      <td>0.000000</td>\n",
       "    </tr>\n",
       "    <tr>\n",
       "      <th>25%</th>\n",
       "      <td>12506.000000</td>\n",
       "      <td>0.000000</td>\n",
       "    </tr>\n",
       "    <tr>\n",
       "      <th>50%</th>\n",
       "      <td>17253.000000</td>\n",
       "      <td>0.000000</td>\n",
       "    </tr>\n",
       "    <tr>\n",
       "      <th>75%</th>\n",
       "      <td>22446.000000</td>\n",
       "      <td>8.500000</td>\n",
       "    </tr>\n",
       "    <tr>\n",
       "      <th>max</th>\n",
       "      <td>111156.000000</td>\n",
       "      <td>502.000000</td>\n",
       "    </tr>\n",
       "  </tbody>\n",
       "</table>\n",
       "</div>"
      ],
      "text/plain": [
       "                runs     wickets\n",
       "count      15.000000   15.000000\n",
       "mean    23597.666667   47.866667\n",
       "std     25201.078125  134.133658\n",
       "min      6291.000000    0.000000\n",
       "25%     12506.000000    0.000000\n",
       "50%     17253.000000    0.000000\n",
       "75%     22446.000000    8.500000\n",
       "max    111156.000000  502.000000"
      ]
     },
     "execution_count": 49,
     "metadata": {},
     "output_type": "execute_result"
    }
   ],
   "source": [
    "details.describe()"
   ]
  },
  {
   "cell_type": "code",
   "execution_count": 50,
   "id": "884cc94e",
   "metadata": {},
   "outputs": [
    {
     "data": {
      "text/plain": [
       "cricketername     role        runs    wickets\n",
       "dravid            batsmen     24208   0          1\n",
       "gambhir           batsmen     10324   0          1\n",
       "m azharuddin      batsmen     15593   0          1\n",
       "msdhoni           batsmen     17266   5          1\n",
       "ravindra jadeja   allrounder  20684   502        1\n",
       "rishabh pant      batsmen     6291    0          1\n",
       "rohitsharma       batsmen     17057   0          1\n",
       "s ganguly         batsmen     18575   0          1\n",
       "sachin tendulkar  batsmen     34357   15         1\n",
       "shikhar dhawan    batsmen     10867   0          1\n",
       "sunil gavaskar    batsmen     13214   0          1\n",
       "v.sehwag          batsmen     17253   0          1\n",
       "viratkohli        batsmen     25322   12         1\n",
       "vvs laxman        batsmen     111156  0          1\n",
       "yuvaraj singh     allrounder  11798   184        1\n",
       "dtype: int64"
      ]
     },
     "execution_count": 50,
     "metadata": {},
     "output_type": "execute_result"
    }
   ],
   "source": [
    "details.value_counts()"
   ]
  },
  {
   "cell_type": "code",
   "execution_count": 59,
   "id": "e3636dbc",
   "metadata": {},
   "outputs": [
    {
     "data": {
      "text/plain": [
       "23597.666666666668"
      ]
     },
     "execution_count": 59,
     "metadata": {},
     "output_type": "execute_result"
    }
   ],
   "source": [
    "details['runs'].mean()"
   ]
  },
  {
   "cell_type": "code",
   "execution_count": 57,
   "id": "273f6c01",
   "metadata": {},
   "outputs": [
    {
     "data": {
      "text/plain": [
       "17253.0"
      ]
     },
     "execution_count": 57,
     "metadata": {},
     "output_type": "execute_result"
    }
   ],
   "source": [
    "details['runs'].median()"
   ]
  },
  {
   "cell_type": "code",
   "execution_count": 58,
   "id": "d1d782be",
   "metadata": {},
   "outputs": [
    {
     "data": {
      "text/plain": [
       "0       6291\n",
       "1      10324\n",
       "2      10867\n",
       "3      11798\n",
       "4      13214\n",
       "5      15593\n",
       "6      17057\n",
       "7      17253\n",
       "8      17266\n",
       "9      18575\n",
       "10     20684\n",
       "11     24208\n",
       "12     25322\n",
       "13     34357\n",
       "14    111156\n",
       "Name: runs, dtype: int64"
      ]
     },
     "execution_count": 58,
     "metadata": {},
     "output_type": "execute_result"
    }
   ],
   "source": [
    "details[\"runs\"].mode()"
   ]
  },
  {
   "cell_type": "code",
   "execution_count": 60,
   "id": "02650edb",
   "metadata": {},
   "outputs": [
    {
     "data": {
      "text/plain": [
       "12.298593570769135"
      ]
     },
     "execution_count": 60,
     "metadata": {},
     "output_type": "execute_result"
    }
   ],
   "source": [
    "details['runs'].kurtosis()"
   ]
  },
  {
   "cell_type": "code",
   "execution_count": 61,
   "id": "6da44083",
   "metadata": {},
   "outputs": [
    {
     "data": {
      "text/plain": [
       "3.3920174612963487"
      ]
     },
     "execution_count": 61,
     "metadata": {},
     "output_type": "execute_result"
    }
   ],
   "source": [
    "details['runs'].skew()"
   ]
  },
  {
   "cell_type": "code",
   "execution_count": 62,
   "id": "3608985d",
   "metadata": {},
   "outputs": [
    {
     "data": {
      "text/plain": [
       "111156"
      ]
     },
     "execution_count": 62,
     "metadata": {},
     "output_type": "execute_result"
    }
   ],
   "source": [
    "details['runs'].max()"
   ]
  },
  {
   "cell_type": "code",
   "execution_count": 63,
   "id": "b8332d55",
   "metadata": {},
   "outputs": [
    {
     "data": {
      "text/plain": [
       "6291"
      ]
     },
     "execution_count": 63,
     "metadata": {},
     "output_type": "execute_result"
    }
   ],
   "source": [
    "details['runs'].min()"
   ]
  },
  {
   "cell_type": "code",
   "execution_count": 64,
   "id": "aabfc0de",
   "metadata": {},
   "outputs": [
    {
     "data": {
      "text/html": [
       "<div>\n",
       "<style scoped>\n",
       "    .dataframe tbody tr th:only-of-type {\n",
       "        vertical-align: middle;\n",
       "    }\n",
       "\n",
       "    .dataframe tbody tr th {\n",
       "        vertical-align: top;\n",
       "    }\n",
       "\n",
       "    .dataframe thead th {\n",
       "        text-align: right;\n",
       "    }\n",
       "</style>\n",
       "<table border=\"1\" class=\"dataframe\">\n",
       "  <thead>\n",
       "    <tr style=\"text-align: right;\">\n",
       "      <th></th>\n",
       "      <th>0</th>\n",
       "      <th>1</th>\n",
       "      <th>2</th>\n",
       "      <th>3</th>\n",
       "      <th>4</th>\n",
       "      <th>5</th>\n",
       "      <th>6</th>\n",
       "      <th>7</th>\n",
       "      <th>8</th>\n",
       "      <th>9</th>\n",
       "      <th>10</th>\n",
       "      <th>11</th>\n",
       "      <th>12</th>\n",
       "      <th>13</th>\n",
       "      <th>14</th>\n",
       "    </tr>\n",
       "  </thead>\n",
       "  <tbody>\n",
       "    <tr>\n",
       "      <th>cricketername</th>\n",
       "      <td>viratkohli</td>\n",
       "      <td>msdhoni</td>\n",
       "      <td>rohitsharma</td>\n",
       "      <td>yuvaraj singh</td>\n",
       "      <td>ravindra jadeja</td>\n",
       "      <td>sachin tendulkar</td>\n",
       "      <td>shikhar dhawan</td>\n",
       "      <td>gambhir</td>\n",
       "      <td>vvs laxman</td>\n",
       "      <td>dravid</td>\n",
       "      <td>v.sehwag</td>\n",
       "      <td>s ganguly</td>\n",
       "      <td>sunil gavaskar</td>\n",
       "      <td>m azharuddin</td>\n",
       "      <td>rishabh pant</td>\n",
       "    </tr>\n",
       "    <tr>\n",
       "      <th>role</th>\n",
       "      <td>batsmen</td>\n",
       "      <td>batsmen</td>\n",
       "      <td>batsmen</td>\n",
       "      <td>allrounder</td>\n",
       "      <td>allrounder</td>\n",
       "      <td>batsmen</td>\n",
       "      <td>batsmen</td>\n",
       "      <td>batsmen</td>\n",
       "      <td>batsmen</td>\n",
       "      <td>batsmen</td>\n",
       "      <td>batsmen</td>\n",
       "      <td>batsmen</td>\n",
       "      <td>batsmen</td>\n",
       "      <td>batsmen</td>\n",
       "      <td>batsmen</td>\n",
       "    </tr>\n",
       "    <tr>\n",
       "      <th>runs</th>\n",
       "      <td>25322</td>\n",
       "      <td>17266</td>\n",
       "      <td>17057</td>\n",
       "      <td>11798</td>\n",
       "      <td>20684</td>\n",
       "      <td>34357</td>\n",
       "      <td>10867</td>\n",
       "      <td>10324</td>\n",
       "      <td>111156</td>\n",
       "      <td>24208</td>\n",
       "      <td>17253</td>\n",
       "      <td>18575</td>\n",
       "      <td>13214</td>\n",
       "      <td>15593</td>\n",
       "      <td>6291</td>\n",
       "    </tr>\n",
       "    <tr>\n",
       "      <th>wickets</th>\n",
       "      <td>12</td>\n",
       "      <td>5</td>\n",
       "      <td>0</td>\n",
       "      <td>184</td>\n",
       "      <td>502</td>\n",
       "      <td>15</td>\n",
       "      <td>0</td>\n",
       "      <td>0</td>\n",
       "      <td>0</td>\n",
       "      <td>0</td>\n",
       "      <td>0</td>\n",
       "      <td>0</td>\n",
       "      <td>0</td>\n",
       "      <td>0</td>\n",
       "      <td>0</td>\n",
       "    </tr>\n",
       "  </tbody>\n",
       "</table>\n",
       "</div>"
      ],
      "text/plain": [
       "                       0        1            2              3   \\\n",
       "cricketername  viratkohli  msdhoni  rohitsharma  yuvaraj singh   \n",
       "role              batsmen  batsmen      batsmen     allrounder   \n",
       "runs                25322    17266        17057          11798   \n",
       "wickets                12        5            0            184   \n",
       "\n",
       "                            4                 5               6        7   \\\n",
       "cricketername  ravindra jadeja  sachin tendulkar  shikhar dhawan  gambhir   \n",
       "role                allrounder           batsmen         batsmen  batsmen   \n",
       "runs                     20684             34357           10867    10324   \n",
       "wickets                    502                15               0        0   \n",
       "\n",
       "                       8        9         10         11              12  \\\n",
       "cricketername  vvs laxman   dravid  v.sehwag  s ganguly  sunil gavaskar   \n",
       "role              batsmen  batsmen   batsmen    batsmen         batsmen   \n",
       "runs               111156    24208     17253      18575           13214   \n",
       "wickets                 0        0         0          0               0   \n",
       "\n",
       "                         13            14  \n",
       "cricketername  m azharuddin  rishabh pant  \n",
       "role                batsmen       batsmen  \n",
       "runs                  15593          6291  \n",
       "wickets                   0             0  "
      ]
     },
     "execution_count": 64,
     "metadata": {},
     "output_type": "execute_result"
    }
   ],
   "source": [
    "details.transpose()"
   ]
  },
  {
   "cell_type": "code",
   "execution_count": null,
   "id": "fc5ebbad",
   "metadata": {},
   "outputs": [],
   "source": []
  }
 ],
 "metadata": {
  "kernelspec": {
   "display_name": "Python 3 (ipykernel)",
   "language": "python",
   "name": "python3"
  },
  "language_info": {
   "codemirror_mode": {
    "name": "ipython",
    "version": 3
   },
   "file_extension": ".py",
   "mimetype": "text/x-python",
   "name": "python",
   "nbconvert_exporter": "python",
   "pygments_lexer": "ipython3",
   "version": "3.9.13"
  }
 },
 "nbformat": 4,
 "nbformat_minor": 5
}
